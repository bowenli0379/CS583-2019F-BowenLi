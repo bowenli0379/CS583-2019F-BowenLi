{
 "cells": [
  {
   "cell_type": "markdown",
   "metadata": {},
   "source": [
    "# Bonus 1: Numerical Optimization for Logistic Regression.\n",
    "\n",
    "### Name: [Bowen Li]\n"
   ]
  },
  {
   "cell_type": "markdown",
   "metadata": {},
   "source": [
    "## 0. You will do the following:\n",
    "\n",
    "1. Read the lecture note: [click here](https://github.com/wangshusen/DeepLearning/blob/master/LectureNotes/Logistic/paper/logistic.pdf)\n",
    "\n",
    "2. Read, complete, and run my code.\n",
    "\n",
    "3. **Implement mini-batch SGD** and evaluate the performance. (1 bonus point.)\n",
    "\n",
    "4. Convert the .IPYNB file to .HTML file.\n",
    "\n",
    "    * The HTML file must contain **the code** and **the output after execution**.\n",
    "    \n",
    "5. Upload this .HTML file to your Github repo.\n",
    "\n",
    "6. Submit the link to this .HTML file to Canvas.\n",
    "\n",
    "    * Example: https://github.com/wangshusen/CS583-2019F/blob/master/homework/Bonus1/Bonus1.html\n",
    "\n",
    "\n",
    "## Grading criteria:\n",
    "\n",
    "1. When computing the ```gradient``` and ```objective function value``` using a batch of samples, use **matrix-vector multiplication** rather than a FOR LOOP of **vector-vector multiplications**.\n",
    "\n",
    "2. Plot ```objective function value``` against ```epochs```. In the plot, compare GD, SGD, and MB-SGD (with $b=8$ and $b=64$). The plot must look reasonable."
   ]
  },
  {
   "cell_type": "code",
   "execution_count": null,
   "metadata": {},
   "outputs": [],
   "source": []
  },
  {
   "cell_type": "markdown",
   "metadata": {},
   "source": [
    "# 1. Data processing\n",
    "\n",
    "- Download the Diabete dataset from https://www.csie.ntu.edu.tw/~cjlin/libsvmtools/datasets/binary/diabetes\n",
    "- Load the data using sklearn.\n",
    "- Preprocess the data."
   ]
  },
  {
   "cell_type": "markdown",
   "metadata": {},
   "source": [
    "## 1.1. Load the data"
   ]
  },
  {
   "cell_type": "code",
   "execution_count": 26,
   "metadata": {},
   "outputs": [
    {
     "name": "stdout",
     "output_type": "stream",
     "text": [
      "Shape of x: (768, 8)\n",
      "Shape of y: (768,)\n"
     ]
    }
   ],
   "source": [
    "from sklearn import datasets\n",
    "import numpy as np\n",
    "import numpy\n",
    "x_sparse, y = datasets.load_svmlight_file('diabetes')\n",
    "x = x_sparse.todense()\n",
    "\n",
    "print('Shape of x: ' + str(x.shape))\n",
    "print('Shape of y: ' + str(y.shape))"
   ]
  },
  {
   "cell_type": "markdown",
   "metadata": {},
   "source": [
    "## 1.2. Partition to training and test sets"
   ]
  },
  {
   "cell_type": "code",
   "execution_count": 27,
   "metadata": {},
   "outputs": [
    {
     "name": "stdout",
     "output_type": "stream",
     "text": [
      "Shape of x_train: (615, 8)\n",
      "Shape of x_test: (153, 8)\n",
      "Shape of y_train: (615, 1)\n",
      "Shape of y_test: (153, 1)\n"
     ]
    }
   ],
   "source": [
    "# partition the data to training and test sets\n",
    "n = x.shape[0]\n",
    "n_train = int(numpy.ceil(n * 0.8))\n",
    "n_test = n - n_train\n",
    "\n",
    "rand_indices = numpy.random.permutation(n)\n",
    "train_indices = rand_indices[0:n_train]\n",
    "test_indices = rand_indices[n_train:n]\n",
    "\n",
    "x_train = x[train_indices, :]\n",
    "x_test = x[test_indices, :]\n",
    "y_train = y[train_indices].reshape(n_train, 1)\n",
    "y_test = y[test_indices].reshape(n_test, 1)\n",
    "\n",
    "print('Shape of x_train: ' + str(x_train.shape))\n",
    "print('Shape of x_test: ' + str(x_test.shape))\n",
    "print('Shape of y_train: ' + str(y_train.shape))\n",
    "print('Shape of y_test: ' + str(y_test.shape))"
   ]
  },
  {
   "cell_type": "markdown",
   "metadata": {},
   "source": [
    "## 1.3. Feature scaling"
   ]
  },
  {
   "cell_type": "markdown",
   "metadata": {},
   "source": [
    "Use the standardization to trainsform both training and test features"
   ]
  },
  {
   "cell_type": "code",
   "execution_count": 28,
   "metadata": {},
   "outputs": [
    {
     "name": "stdout",
     "output_type": "stream",
     "text": [
      "test mean = \n",
      "[[ 0.01373012 -0.09133437 -0.11998752 -0.01047389 -0.09323957 -0.17048024\n",
      "  -0.07118078  0.10323425]]\n",
      "test std = \n",
      "[[0.96205941 1.03420029 1.30363281 1.09149882 1.02063872 1.01609856\n",
      "  1.01633015 1.01277462]]\n"
     ]
    }
   ],
   "source": [
    "# Standardization\n",
    "import numpy\n",
    "\n",
    "# calculate mu and sig using the training set\n",
    "d = x_train.shape[1]\n",
    "mu = numpy.mean(x_train, axis=0).reshape(1, d)\n",
    "sig = numpy.std(x_train, axis=0).reshape(1, d)\n",
    "\n",
    "# transform the training features\n",
    "x_train = (x_train - mu) / (sig + 1E-6)\n",
    "\n",
    "# transform the test features\n",
    "x_test = (x_test - mu) / (sig + 1E-6)\n",
    "\n",
    "print('test mean = ')\n",
    "print(numpy.mean(x_test, axis=0))\n",
    "\n",
    "print('test std = ')\n",
    "print(numpy.std(x_test, axis=0))"
   ]
  },
  {
   "cell_type": "markdown",
   "metadata": {},
   "source": [
    "## 1.4. Add a dimension of all ones"
   ]
  },
  {
   "cell_type": "code",
   "execution_count": 29,
   "metadata": {},
   "outputs": [
    {
     "name": "stdout",
     "output_type": "stream",
     "text": [
      "Shape of x_train: (615, 9)\n",
      "Shape of x_test: (153, 9)\n"
     ]
    }
   ],
   "source": [
    "n_train, d = x_train.shape\n",
    "x_train = numpy.concatenate((x_train, numpy.ones((n_train, 1))), axis=1)\n",
    "\n",
    "n_test, d = x_test.shape\n",
    "x_test = numpy.concatenate((x_test, numpy.ones((n_test, 1))), axis=1)\n",
    "\n",
    "print('Shape of x_train: ' + str(x_train.shape))\n",
    "print('Shape of x_test: ' + str(x_test.shape))"
   ]
  },
  {
   "cell_type": "markdown",
   "metadata": {},
   "source": [
    "# 2. Logistic regression model\n",
    "\n",
    "The objective function is $Q (w; X, y) = \\frac{1}{n} \\sum_{i=1}^n \\log \\Big( 1 + \\exp \\big( - y_i x_i^T w \\big) \\Big) + \\frac{\\lambda}{2} \\| w \\|_2^2 $."
   ]
  },
  {
   "cell_type": "code",
   "execution_count": 30,
   "metadata": {},
   "outputs": [],
   "source": [
    "# Calculate the objective function value\n",
    "# Inputs:\n",
    "#     w: d-by-1 matrix\n",
    "#     x: n-by-d matrix\n",
    "#     y: n-by-1 matrix\n",
    "#     lam: scalar, the regularization parameter\n",
    "# Return:\n",
    "#     objective function value (scalar)\n",
    "def objective(w, x, y, lam):\n",
    "    n, d = x.shape\n",
    "    yx = numpy.multiply(y, x) # n-by-d matrix\n",
    "    yxw = numpy.dot(yx, w) # n-by-1 matrix\n",
    "    vec1 = numpy.exp(-yxw) # n-by-1 matrix\n",
    "    vec2 = numpy.log(1 + vec1) # n-by-1 matrix\n",
    "    loss = numpy.mean(vec2) # scalar\n",
    "    reg = lam / 2 * numpy.sum(w * w) # scalar\n",
    "    return loss + reg\n",
    "    "
   ]
  },
  {
   "cell_type": "code",
   "execution_count": 31,
   "metadata": {},
   "outputs": [
    {
     "name": "stdout",
     "output_type": "stream",
     "text": [
      "Initial objective function value = 0.6931471805599453\n"
     ]
    }
   ],
   "source": [
    "# initialize w\n",
    "d = x_train.shape[1]\n",
    "w = numpy.zeros((d, 1))\n",
    "\n",
    "# evaluate the objective function value at w\n",
    "lam = 1E-6\n",
    "objval0 = objective(w, x_train, y_train, lam)\n",
    "print('Initial objective function value = ' + str(objval0))"
   ]
  },
  {
   "cell_type": "markdown",
   "metadata": {},
   "source": [
    "# 3. Numerical optimization"
   ]
  },
  {
   "cell_type": "markdown",
   "metadata": {},
   "source": [
    "## 3.1. Gradient descent\n"
   ]
  },
  {
   "cell_type": "markdown",
   "metadata": {},
   "source": [
    "The gradient at $w$ is $g = - \\frac{1}{n} \\sum_{i=1}^n \\frac{y_i x_i }{1 + \\exp ( y_i x_i^T w)} + \\lambda w$"
   ]
  },
  {
   "cell_type": "code",
   "execution_count": 32,
   "metadata": {},
   "outputs": [],
   "source": [
    "# Calculate the gradient\n",
    "# Inputs:\n",
    "#     w: d-by-1 matrix\n",
    "#     x: n-by-d matrix\n",
    "#     y: n-by-1 matrix\n",
    "#     lam: scalar, the regularization parameter\n",
    "# Return:\n",
    "#     g: g: d-by-1 matrix, full gradient\n",
    "def gradient(w, x, y, lam):\n",
    "    n, d = x.shape\n",
    "    yx = numpy.multiply(y, x) # n-by-d matrix\n",
    "    yxw = numpy.dot(yx, w) # n-by-1 matrix\n",
    "    vec1 = numpy.exp(yxw) # n-by-1 matrix\n",
    "    vec2 = numpy.divide(yx, 1+vec1) # n-by-d matrix\n",
    "    vec3 = -numpy.mean(vec2, axis=0).reshape(d, 1) # d-by-1 matrix\n",
    "    g = vec3 + lam * w\n",
    "    return g"
   ]
  },
  {
   "cell_type": "code",
   "execution_count": 33,
   "metadata": {},
   "outputs": [],
   "source": [
    "# Gradient descent for solving logistic regression\n",
    "# Inputs:\n",
    "#     x: n-by-d matrix\n",
    "#     y: n-by-1 matrix\n",
    "#     lam: scalar, the regularization parameter\n",
    "#     stepsize: scalar\n",
    "#     max_iter: integer, the maximal iterations\n",
    "#     w: d-by-1 matrix, initialization of w\n",
    "# Return:\n",
    "#     w: d-by-1 matrix, the solution\n",
    "#     objvals: a record of each iteration's objective value\n",
    "def grad_descent(x, y, lam, stepsize, max_iter=100, w=None):\n",
    "    n, d = x.shape\n",
    "    objvals = numpy.zeros(max_iter) # store the objective values\n",
    "    if w is None:\n",
    "        w = numpy.zeros((d, 1)) # zero initialization\n",
    "    \n",
    "    for t in range(max_iter):\n",
    "        objval = objective(w, x, y, lam)\n",
    "        objvals[t] = objval\n",
    "        print('Objective value at t=' + str(t) + ' is ' + str(objval))\n",
    "        g = gradient(w, x, y, lam)\n",
    "        w -= stepsize * g\n",
    "    \n",
    "    return w, objvals"
   ]
  },
  {
   "cell_type": "markdown",
   "metadata": {},
   "source": [
    "Run gradient descent."
   ]
  },
  {
   "cell_type": "code",
   "execution_count": 34,
   "metadata": {},
   "outputs": [
    {
     "name": "stdout",
     "output_type": "stream",
     "text": [
      "Objective value at t=0 is 0.6931471805599453\n",
      "Objective value at t=1 is 0.5799439842031044\n",
      "Objective value at t=2 is 0.5338971116826243\n",
      "Objective value at t=3 is 0.5091675669821265\n",
      "Objective value at t=4 is 0.4937294419251314\n",
      "Objective value at t=5 is 0.48324330206799454\n",
      "Objective value at t=6 is 0.4757350645880443\n",
      "Objective value at t=7 is 0.47016183548523843\n",
      "Objective value at t=8 is 0.46591434099300066\n",
      "Objective value at t=9 is 0.4626106682494847\n",
      "Objective value at t=10 is 0.4599988437718192\n",
      "Objective value at t=11 is 0.4579060592063996\n",
      "Objective value at t=12 is 0.4562101387718768\n",
      "Objective value at t=13 is 0.45482254301447866\n",
      "Objective value at t=14 is 0.45367777024587175\n",
      "Objective value at t=15 is 0.4527265007278979\n",
      "Objective value at t=16 is 0.4519310267825356\n",
      "Objective value at t=17 is 0.4512621290388038\n",
      "Objective value at t=18 is 0.4506968946811992\n",
      "Objective value at t=19 is 0.4502171646954144\n",
      "Objective value at t=20 is 0.4498084101890947\n",
      "Objective value at t=21 is 0.4494589069613092\n",
      "Objective value at t=22 is 0.44915912088748294\n",
      "Objective value at t=23 is 0.4489012445896736\n",
      "Objective value at t=24 is 0.44867884417938364\n",
      "Objective value at t=25 is 0.4484865871071031\n",
      "Objective value at t=26 is 0.4483200304771473\n",
      "Objective value at t=27 is 0.44817545492982025\n",
      "Objective value at t=28 is 0.448049733210487\n",
      "Objective value at t=29 is 0.44794022539135536\n",
      "Objective value at t=30 is 0.4478446947521129\n",
      "Objective value at t=31 is 0.4477612398044828\n",
      "Objective value at t=32 is 0.4476882390288846\n",
      "Objective value at t=33 is 0.44762430569242534\n",
      "Objective value at t=34 is 0.44756825071533385\n",
      "Objective value at t=35 is 0.4475190520030971\n",
      "Objective value at t=36 is 0.4474758290032643\n",
      "Objective value at t=37 is 0.4474378215072961\n",
      "Objective value at t=38 is 0.4474043719192978\n",
      "Objective value at t=39 is 0.44737491036982086\n",
      "Objective value at t=40 is 0.4473489421750492\n",
      "Objective value at t=41 is 0.4473260372377059\n",
      "Objective value at t=42 is 0.4473058210619359\n",
      "Objective value at t=43 is 0.4472879671148074\n",
      "Objective value at t=44 is 0.44727219031535365\n",
      "Objective value at t=45 is 0.4472582414708758\n",
      "Objective value at t=46 is 0.44724590251155755\n",
      "Objective value at t=47 is 0.44723498239986664\n",
      "Objective value at t=48 is 0.44722531361192613\n",
      "Objective value at t=49 is 0.4472167491049858\n",
      "Objective value at t=50 is 0.4472091596990511\n",
      "Objective value at t=51 is 0.4472024318121998\n",
      "Objective value at t=52 is 0.44719646549862485\n",
      "Objective value at t=53 is 0.447191172746326\n",
      "Objective value at t=54 is 0.4471864759979477\n",
      "Objective value at t=55 is 0.44718230686375476\n",
      "Objective value at t=56 is 0.44717860500033874\n",
      "Objective value at t=57 is 0.4471753171325225\n",
      "Objective value at t=58 is 0.44717239619918797\n",
      "Objective value at t=59 is 0.44716980060651224\n",
      "Objective value at t=60 is 0.4471674935744305\n",
      "Objective value at t=61 is 0.4471654425641262\n",
      "Objective value at t=62 is 0.4471636187760393\n",
      "Objective value at t=63 is 0.4471619967093177\n",
      "Objective value at t=64 is 0.44716055377487013\n",
      "Objective value at t=65 is 0.4471592699552306\n",
      "Objective value at t=66 is 0.44715812750534667\n",
      "Objective value at t=67 is 0.44715711068918135\n",
      "Objective value at t=68 is 0.447156205547684\n",
      "Objective value at t=69 is 0.44715539969426527\n",
      "Objective value at t=70 is 0.44715468213440474\n",
      "Objective value at t=71 is 0.44715404310645235\n",
      "Objective value at t=72 is 0.44715347394105626\n",
      "Objective value at t=73 is 0.4471529669369728\n",
      "Objective value at t=74 is 0.44715251525129585\n",
      "Objective value at t=75 is 0.4471521128023833\n",
      "Objective value at t=76 is 0.44715175418397657\n",
      "Objective value at t=77 is 0.44715143458918744\n",
      "Objective value at t=78 is 0.4471511497431916\n",
      "Objective value at t=79 is 0.44715089584361084\n",
      "Objective value at t=80 is 0.44715066950768173\n",
      "Objective value at t=81 is 0.44715046772542605\n",
      "Objective value at t=82 is 0.4471502878181253\n",
      "Objective value at t=83 is 0.4471501274014863\n",
      "Objective value at t=84 is 0.44714998435295905\n",
      "Objective value at t=85 is 0.4471498567827303\n",
      "Objective value at t=86 is 0.4471497430079717\n",
      "Objective value at t=87 is 0.44714964152997155\n",
      "Objective value at t=88 is 0.4471495510138225\n",
      "Objective value at t=89 is 0.44714947027037466\n",
      "Objective value at t=90 is 0.44714939824019867\n",
      "Objective value at t=91 is 0.44714933397932943\n",
      "Objective value at t=92 is 0.4471492766465946\n",
      "Objective value at t=93 is 0.44714922549234454\n",
      "Objective value at t=94 is 0.4471491798484289\n",
      "Objective value at t=95 is 0.44714913911928195\n",
      "Objective value at t=96 is 0.4471491027739898\n",
      "Objective value at t=97 is 0.4471490703392313\n",
      "Objective value at t=98 is 0.4471490413929967\n",
      "Objective value at t=99 is 0.44714901555899517\n"
     ]
    }
   ],
   "source": [
    "lam = 1E-6\n",
    "stepsize = 1.0\n",
    "w, objvals_gd = grad_descent(x_train, y_train, lam, stepsize)"
   ]
  },
  {
   "cell_type": "markdown",
   "metadata": {},
   "source": [
    "## 3.2. Stochastic gradient descent (SGD)\n",
    "\n",
    "Define $Q_i (w) = \\log \\Big( 1 + \\exp \\big( - y_i x_i^T w \\big) \\Big) + \\frac{\\lambda}{2} \\| w \\|_2^2 $.\n",
    "\n",
    "The stochastic gradient at $w$ is $g_i = \\frac{\\partial Q_i }{ \\partial w} = -\\frac{y_i x_i }{1 + \\exp ( y_i x_i^T w)} + \\lambda w$."
   ]
  },
  {
   "cell_type": "code",
   "execution_count": 35,
   "metadata": {},
   "outputs": [],
   "source": [
    "# Calculate the objective Q_i and the gradient of Q_i\n",
    "# Inputs:\n",
    "#     w: d-by-1 matrix\n",
    "#     xi: 1-by-d matrix\n",
    "#     yi: scalar\n",
    "#     lam: scalar, the regularization parameter\n",
    "# Return:\n",
    "#     obj: scalar, the objective Q_i\n",
    "#     g: d-by-1 matrix, gradient of Q_i\n",
    "def stochastic_objective_gradient(w, xi, yi, lam):\n",
    "    d = xi.shape[0]\n",
    "    yx = yi * xi # 1-by-d matrix\n",
    "    yxw = float(numpy.dot(yx, w)) # scalar\n",
    "    \n",
    "    # calculate objective function Q_i\n",
    "    loss = numpy.log(1 + numpy.exp(-yxw)) # scalar\n",
    "    reg = lam / 2 * numpy.sum(w * w) # scalar\n",
    "    obj = loss + reg\n",
    "    \n",
    "    # calculate stochastic gradient\n",
    "    g_loss = -yx.T / (1 + numpy.exp(yxw)) # d-by-1 matrix\n",
    "    g = g_loss + lam * w # d-by-1 matrix\n",
    "    \n",
    "    return obj, g"
   ]
  },
  {
   "cell_type": "code",
   "execution_count": 36,
   "metadata": {},
   "outputs": [],
   "source": [
    "# SGD for solving logistic regression\n",
    "# Inputs:\n",
    "#     x: n-by-d matrix\n",
    "#     y: n-by-1 matrix\n",
    "#     lam: scalar, the regularization parameter\n",
    "#     stepsize: scalar\n",
    "#     max_epoch: integer, the maximal epochs\n",
    "#     w: d-by-1 matrix, initialization of w\n",
    "# Return:\n",
    "#     w: the solution\n",
    "#     objvals: record of each iteration's objective value\n",
    "def sgd(x, y, lam, stepsize, max_epoch=100, w=None):\n",
    "    n, d = x.shape\n",
    "    objvals = numpy.zeros(max_epoch) # store the objective values\n",
    "    if w is None:\n",
    "        w = numpy.zeros((d, 1)) # zero initialization\n",
    "    \n",
    "    for t in range(max_epoch):\n",
    "        # randomly shuffle the samples\n",
    "        rand_indices = numpy.random.permutation(n)\n",
    "        x_rand = x[rand_indices, :]\n",
    "        y_rand = y[rand_indices, :]\n",
    "        \n",
    "        objval = 0 # accumulate the objective values\n",
    "        for i in range(n):\n",
    "            xi = x_rand[i, :] # 1-by-d matrix\n",
    "            yi = float(y_rand[i, :]) # scalar\n",
    "            obj, g = stochastic_objective_gradient(w, xi, yi, lam)\n",
    "            objval += obj\n",
    "            w -= stepsize * g\n",
    "        \n",
    "        stepsize *= 0.9 # decrease step size\n",
    "        objval /= n\n",
    "        objvals[t] = objval\n",
    "        print('Objective value at epoch t=' + str(t) + ' is ' + str(objval))\n",
    "    \n",
    "    return w, objvals"
   ]
  },
  {
   "cell_type": "markdown",
   "metadata": {},
   "source": [
    "Run SGD."
   ]
  },
  {
   "cell_type": "code",
   "execution_count": 37,
   "metadata": {},
   "outputs": [
    {
     "name": "stdout",
     "output_type": "stream",
     "text": [
      "Objective value at epoch t=0 is 0.515408366001649\n",
      "Objective value at epoch t=1 is 0.48996692284087445\n",
      "Objective value at epoch t=2 is 0.48030028465087515\n",
      "Objective value at epoch t=3 is 0.48814214839643966\n",
      "Objective value at epoch t=4 is 0.4740095116571746\n",
      "Objective value at epoch t=5 is 0.4752356098233777\n",
      "Objective value at epoch t=6 is 0.47439953258711826\n",
      "Objective value at epoch t=7 is 0.47047101008751774\n",
      "Objective value at epoch t=8 is 0.4681632770895683\n",
      "Objective value at epoch t=9 is 0.4657133503859001\n",
      "Objective value at epoch t=10 is 0.46126689283969546\n",
      "Objective value at epoch t=11 is 0.46556765974705944\n",
      "Objective value at epoch t=12 is 0.46364238357567805\n",
      "Objective value at epoch t=13 is 0.45945379143426684\n",
      "Objective value at epoch t=14 is 0.4594403179939692\n",
      "Objective value at epoch t=15 is 0.45819537674000566\n",
      "Objective value at epoch t=16 is 0.4549605398422861\n",
      "Objective value at epoch t=17 is 0.45796629967978186\n",
      "Objective value at epoch t=18 is 0.4560754829236686\n",
      "Objective value at epoch t=19 is 0.4541227088129752\n",
      "Objective value at epoch t=20 is 0.45424071136158173\n",
      "Objective value at epoch t=21 is 0.4532312623639964\n",
      "Objective value at epoch t=22 is 0.4538570653098323\n",
      "Objective value at epoch t=23 is 0.45199071416522485\n",
      "Objective value at epoch t=24 is 0.45208467604247254\n",
      "Objective value at epoch t=25 is 0.45155899691884893\n",
      "Objective value at epoch t=26 is 0.4513730036313348\n",
      "Objective value at epoch t=27 is 0.450690219181873\n",
      "Objective value at epoch t=28 is 0.45035596682248025\n",
      "Objective value at epoch t=29 is 0.45005076959462065\n",
      "Objective value at epoch t=30 is 0.44978263433020704\n",
      "Objective value at epoch t=31 is 0.449651936520982\n",
      "Objective value at epoch t=32 is 0.44924957403921306\n",
      "Objective value at epoch t=33 is 0.4492045752846095\n",
      "Objective value at epoch t=34 is 0.4487940745353795\n",
      "Objective value at epoch t=35 is 0.44875504347033873\n",
      "Objective value at epoch t=36 is 0.44867454013700536\n",
      "Objective value at epoch t=37 is 0.4484819580102298\n",
      "Objective value at epoch t=38 is 0.4483457554825894\n",
      "Objective value at epoch t=39 is 0.4482378720451235\n",
      "Objective value at epoch t=40 is 0.44812769002772007\n",
      "Objective value at epoch t=41 is 0.44803275076261545\n",
      "Objective value at epoch t=42 is 0.44794537194058076\n",
      "Objective value at epoch t=43 is 0.44786927377499847\n",
      "Objective value at epoch t=44 is 0.4477859296059883\n",
      "Objective value at epoch t=45 is 0.44772330476384736\n",
      "Objective value at epoch t=46 is 0.4476634388549818\n",
      "Objective value at epoch t=47 is 0.44762380985174355\n",
      "Objective value at epoch t=48 is 0.4475716701237174\n",
      "Objective value at epoch t=49 is 0.4475315196078394\n",
      "Objective value at epoch t=50 is 0.4474937863857912\n",
      "Objective value at epoch t=51 is 0.4474601474521452\n",
      "Objective value at epoch t=52 is 0.4474293892777391\n",
      "Objective value at epoch t=53 is 0.4474011055190455\n",
      "Objective value at epoch t=54 is 0.44737599996034333\n",
      "Objective value at epoch t=55 is 0.44735397693841855\n",
      "Objective value at epoch t=56 is 0.44733341413958255\n",
      "Objective value at epoch t=57 is 0.4473149517026018\n",
      "Objective value at epoch t=58 is 0.4472979102443892\n",
      "Objective value at epoch t=59 is 0.44728354071333815\n",
      "Objective value at epoch t=60 is 0.4472701328358151\n",
      "Objective value at epoch t=61 is 0.4472580772659542\n",
      "Objective value at epoch t=62 is 0.44724671787770254\n",
      "Objective value at epoch t=63 is 0.4472370901971524\n",
      "Objective value at epoch t=64 is 0.4472283367595526\n",
      "Objective value at epoch t=65 is 0.4472204694381564\n",
      "Objective value at epoch t=66 is 0.44721337168183445\n",
      "Objective value at epoch t=67 is 0.4472069350604071\n",
      "Objective value at epoch t=68 is 0.44720106950334304\n",
      "Objective value at epoch t=69 is 0.4471959182616993\n",
      "Objective value at epoch t=70 is 0.44719121385045746\n",
      "Objective value at epoch t=71 is 0.44718699028504644\n",
      "Objective value at epoch t=72 is 0.4471831580232196\n",
      "Objective value at epoch t=73 is 0.4471797497399666\n",
      "Objective value at epoch t=74 is 0.4471766706542834\n",
      "Objective value at epoch t=75 is 0.44717390949698366\n",
      "Objective value at epoch t=76 is 0.4471714156874414\n",
      "Objective value at epoch t=77 is 0.44716916285013414\n",
      "Objective value at epoch t=78 is 0.44716714164637067\n",
      "Objective value at epoch t=79 is 0.44716531640135293\n",
      "Objective value at epoch t=80 is 0.4471636806638894\n",
      "Objective value at epoch t=81 is 0.44716220585817734\n",
      "Objective value at epoch t=82 is 0.4471608785109231\n",
      "Objective value at epoch t=83 is 0.44715968225916647\n",
      "Objective value at epoch t=84 is 0.44715860726358536\n",
      "Objective value at epoch t=85 is 0.44715763812778686\n",
      "Objective value at epoch t=86 is 0.44715676766902646\n",
      "Objective value at epoch t=87 is 0.4471559837488226\n",
      "Objective value at epoch t=88 is 0.44715527771794744\n",
      "Objective value at epoch t=89 is 0.4471546427294199\n",
      "Objective value at epoch t=90 is 0.4471540708313151\n",
      "Objective value at epoch t=91 is 0.4471535559192697\n",
      "Objective value at epoch t=92 is 0.4471530931730182\n",
      "Objective value at epoch t=93 is 0.44715267640190853\n",
      "Objective value at epoch t=94 is 0.44715230127523703\n",
      "Objective value at epoch t=95 is 0.44715196357099657\n",
      "Objective value at epoch t=96 is 0.44715165959870734\n",
      "Objective value at epoch t=97 is 0.4471513862785907\n",
      "Objective value at epoch t=98 is 0.4471511401894194\n",
      "Objective value at epoch t=99 is 0.4471509186921703\n"
     ]
    }
   ],
   "source": [
    "lam = 1E-6\n",
    "stepsize = 0.1\n",
    "w, objvals_sgd = sgd(x_train, y_train, lam, stepsize)"
   ]
  },
  {
   "cell_type": "markdown",
   "metadata": {},
   "source": [
    "# 4. Compare GD with SGD\n",
    "\n",
    "Plot objective function values against epochs."
   ]
  },
  {
   "cell_type": "code",
   "execution_count": 38,
   "metadata": {},
   "outputs": [
    {
     "data": {
      "image/png": "[encoded data removed]",
      "text/plain": [
       "<Figure size 432x288 with 1 Axes>"
      ]
     },
     "metadata": {
      "needs_background": "light"
     },
     "output_type": "display_data"
    }
   ],
   "source": [
    "import matplotlib.pyplot as plt\n",
    "%matplotlib inline\n",
    "\n",
    "fig = plt.figure(figsize=(6, 4))\n",
    "\n",
    "epochs_gd = range(len(objvals_gd))\n",
    "epochs_sgd = range(len(objvals_sgd))\n",
    "\n",
    "line0, = plt.plot(epochs_gd, objvals_gd, '--b', LineWidth=4)\n",
    "line1, = plt.plot(epochs_sgd, objvals_sgd, '-r', LineWidth=2)\n",
    "plt.xlabel('Epochs', FontSize=20)\n",
    "plt.ylabel('Objective Value', FontSize=20)\n",
    "plt.xticks(FontSize=16)\n",
    "plt.yticks(FontSize=16)\n",
    "plt.legend([line0, line1], ['GD', 'SGD'], fontsize=20)\n",
    "plt.tight_layout()\n",
    "plt.show()\n",
    "fig.savefig('compare_gd_sgd.pdf', format='pdf', dpi=1200)"
   ]
  },
  {
   "cell_type": "markdown",
   "metadata": {},
   "source": [
    "# 5. Prediction"
   ]
  },
  {
   "cell_type": "code",
   "execution_count": 39,
   "metadata": {},
   "outputs": [],
   "source": [
    "# Predict class label\n",
    "# Inputs:\n",
    "#     w: d-by-1 matrix\n",
    "#     X: m-by-d matrix\n",
    "# Return:\n",
    "#     f: m-by-1 matrix, the predictions\n",
    "def predict(w, X):\n",
    "    xw = numpy.dot(X, w)\n",
    "    f = numpy.sign(xw)\n",
    "    return f"
   ]
  },
  {
   "cell_type": "code",
   "execution_count": 40,
   "metadata": {},
   "outputs": [
    {
     "name": "stdout",
     "output_type": "stream",
     "text": [
      "Training classification error is 0.2097560975609756\n"
     ]
    }
   ],
   "source": [
    "# evaluate training error\n",
    "f_train = predict(w, x_train)\n",
    "diff = numpy.abs(f_train - y_train) / 2\n",
    "error_train = numpy.mean(diff)\n",
    "print('Training classification error is ' + str(error_train))"
   ]
  },
  {
   "cell_type": "code",
   "execution_count": 41,
   "metadata": {},
   "outputs": [
    {
     "name": "stdout",
     "output_type": "stream",
     "text": [
      "Test classification error is 0.2549019607843137\n"
     ]
    }
   ],
   "source": [
    "# evaluate test error\n",
    "f_test = predict(w, x_test)\n",
    "diff = numpy.abs(f_test - y_test) / 2\n",
    "error_test = numpy.mean(diff)\n",
    "print('Test classification error is ' + str(error_test))"
   ]
  },
  {
   "cell_type": "markdown",
   "metadata": {},
   "source": [
    "# 6. Mini-batch SGD (fill the code)\n",
    "\n",
    "Define $Q_I (w) = \\frac{1}{b} \\sum_{i \\in I} \\log \\Big( 1 + \\exp \\big( - y_i x_i^T w \\big) \\Big) + \\frac{\\lambda}{2} \\| w \\|_2^2 $, where $I$ is a set containing $b$ indices randomly drawn from $\\{ 1, \\cdots , n \\}$ without replacement.\n",
    "\n",
    "The stochastic gradient at $w$ is $g_I = \\frac{\\partial Q_I }{ \\partial w} = \\frac{1}{b} \\sum_{i \\in I} \\frac{- y_i x_i }{1 + \\exp ( y_i x_i^T w)} + \\lambda w$."
   ]
  },
  {
   "cell_type": "markdown",
   "metadata": {},
   "source": [
    "## 6.1. Compute the objective $Q_I$ and its gradient using a batch of samples"
   ]
  },
  {
   "cell_type": "code",
   "execution_count": 47,
   "metadata": {},
   "outputs": [],
   "source": [
    "# Calculate the objective Q_I and the gradient of Q_I\n",
    "# Inputs:\n",
    "#     w: d-by-1 matrix\n",
    "#     xi: 1-by-d matrix\n",
    "#     yi: scalar\n",
    "#     lam: scalar, the regularization parameter\n",
    "#     b: integer, the batch size\n",
    "# Return:\n",
    "#     obj: scalar, the objective Q_i\n",
    "#     g: d-by-1 matrix, gradient of Q_i\n",
    "def mb_stochastic_objective_gradient(w, xi, yi, lam, b):\n",
    "    # Fill the function\n",
    "    # Follow the implementation of stochastic_objective_gradient\n",
    "    # Use matrix-vector multiplication; do not use FOR LOOP of vector-vector multiplications\n",
    "    d = xi.shape[0]\n",
    "    addloss = 0\n",
    "    addgloss = 0\n",
    "    for i in range(0, d, b):\n",
    "        x_i = xi[i:i+b,:]\n",
    "        yx = yi*x_i\n",
    "        w_i = w[:,i:i+b] \n",
    "        yxw = numpy.dot(yx, w_i) # vector\n",
    "        loss = numpy.log(1 + numpy.exp(-yxw)) # scalar\n",
    "        g_loss = -yx.T / (1 + numpy.exp(yxw))\n",
    "        addloss += loss\n",
    "        addgloss += g_loss\n",
    "    return addloss, addgloss\n",
    "    \n",
    "    reg = lam / 2 * numpy.sum(w * w) # scalar\n",
    "    \n",
    "    obj = addloss/b + reg\n",
    "    g = addgloss/b + lam * w # d-by-1 matrix\n",
    "    \n",
    "    return obj, g"
   ]
  },
  {
   "cell_type": "markdown",
   "metadata": {},
   "source": [
    "## 6.2. Implement mini-batch SGD"
   ]
  },
  {
   "cell_type": "code",
   "execution_count": 48,
   "metadata": {},
   "outputs": [],
   "source": [
    "# Mini-Batch SGD for solving logistic regression\n",
    "# Inputs:\n",
    "#     x: n-by-d matrix\n",
    "#     y: n-by-1 matrix\n",
    "#     lam: scalar, the regularization parameter\n",
    "#     b: integer, the batch size\n",
    "#     stepsize: scalar\n",
    "#     max_epoch: integer, the maximal epochs\n",
    "#     w: d-by-1 matrix, initialization of w\n",
    "# Return:\n",
    "#     w: the solution\n",
    "#     objvals: record of each iteration's objective value\n",
    "def mb_sgd(x, y, lam, b, stepsize, max_epoch=100, w=None):\n",
    "    # Fill the function\n",
    "    # Follow the implementation of sgd\n",
    "    # Record one objective value per epoch (not per iteration!)\n",
    "    ...\n",
    "    n, d = x.shape\n",
    "    objvals = numpy.zeros(max_epoch) # store the objective values\n",
    "    if w is None:\n",
    "        w = numpy.zeros((d, 1)) # zero initialization\n",
    "    \n",
    "    for t in range(max_epoch):\n",
    "        # randomly shuffle the samples\n",
    "        rand_indices = numpy.random.permutation(n)\n",
    "        x_rand = x[rand_indices, :]\n",
    "        y_rand = y[rand_indices, :]\n",
    "        \n",
    "        objval = 0 # accumulate the objective values\n",
    "        for i in range(n):\n",
    "            xi = x_rand[i, :] # 1-by-d matrix\n",
    "            yi = float (y_rand[i, :]) # vector\n",
    "            obj, g = mb_stochastic_objective_gradient(w, xi, yi, lam, b)\n",
    "            objval += obj\n",
    "            w -= stepsize * g\n",
    "        \n",
    "        stepsize *= 0.9 # decrease step size\n",
    "        objval /= n\n",
    "        objvals[t] = objval\n",
    "        print('Objective value at epoch t=' + str(t) + ' is ' + str(objval))\n",
    "    \n",
    "    return w, objvals"
   ]
  },
  {
   "cell_type": "markdown",
   "metadata": {},
   "source": [
    "## 6.3. Run MB-SGD"
   ]
  },
  {
   "cell_type": "code",
   "execution_count": 49,
   "metadata": {},
   "outputs": [
    {
     "name": "stdout",
     "output_type": "stream",
     "text": [
      "Objective value at epoch t=0 is [[0.51093606]]\n",
      "Objective value at epoch t=1 is [[0.48580574]]\n",
      "Objective value at epoch t=2 is [[0.47953602]]\n",
      "Objective value at epoch t=3 is [[0.48516419]]\n",
      "Objective value at epoch t=4 is [[0.48249867]]\n",
      "Objective value at epoch t=5 is [[0.47249127]]\n",
      "Objective value at epoch t=6 is [[0.47258122]]\n",
      "Objective value at epoch t=7 is [[0.47304351]]\n",
      "Objective value at epoch t=8 is [[0.47056722]]\n",
      "Objective value at epoch t=9 is [[0.46356689]]\n",
      "Objective value at epoch t=10 is [[0.46664409]]\n",
      "Objective value at epoch t=11 is [[0.46379242]]\n",
      "Objective value at epoch t=12 is [[0.46314557]]\n",
      "Objective value at epoch t=13 is [[0.46083967]]\n",
      "Objective value at epoch t=14 is [[0.46041629]]\n",
      "Objective value at epoch t=15 is [[0.45813195]]\n",
      "Objective value at epoch t=16 is [[0.45496201]]\n",
      "Objective value at epoch t=17 is [[0.45725536]]\n",
      "Objective value at epoch t=18 is [[0.45632947]]\n",
      "Objective value at epoch t=19 is [[0.45350167]]\n",
      "Objective value at epoch t=20 is [[0.45434789]]\n",
      "Objective value at epoch t=21 is [[0.45353921]]\n",
      "Objective value at epoch t=22 is [[0.4529738]]\n",
      "Objective value at epoch t=23 is [[0.45267441]]\n",
      "Objective value at epoch t=24 is [[0.45235037]]\n",
      "Objective value at epoch t=25 is [[0.45150074]]\n",
      "Objective value at epoch t=26 is [[0.45133597]]\n",
      "Objective value at epoch t=27 is [[0.45081401]]\n",
      "Objective value at epoch t=28 is [[0.45011624]]\n",
      "Objective value at epoch t=29 is [[0.45015539]]\n",
      "Objective value at epoch t=30 is [[0.44989617]]\n",
      "Objective value at epoch t=31 is [[0.44962231]]\n",
      "Objective value at epoch t=32 is [[0.44935075]]\n",
      "Objective value at epoch t=33 is [[0.4491544]]\n",
      "Objective value at epoch t=34 is [[0.4489847]]\n",
      "Objective value at epoch t=35 is [[0.44874621]]\n",
      "Objective value at epoch t=36 is [[0.44860158]]\n",
      "Objective value at epoch t=37 is [[0.44848221]]\n",
      "Objective value at epoch t=38 is [[0.44833625]]\n",
      "Objective value at epoch t=39 is [[0.44823454]]\n",
      "Objective value at epoch t=40 is [[0.44813438]]\n",
      "Objective value at epoch t=41 is [[0.44803417]]\n",
      "Objective value at epoch t=42 is [[0.44794613]]\n",
      "Objective value at epoch t=43 is [[0.44786404]]\n",
      "Objective value at epoch t=44 is [[0.44778898]]\n",
      "Objective value at epoch t=45 is [[0.44773377]]\n",
      "Objective value at epoch t=46 is [[0.44767372]]\n",
      "Objective value at epoch t=47 is [[0.44761906]]\n",
      "Objective value at epoch t=48 is [[0.44757456]]\n",
      "Objective value at epoch t=49 is [[0.44753066]]\n",
      "Objective value at epoch t=50 is [[0.44749041]]\n",
      "Objective value at epoch t=51 is [[0.44745892]]\n",
      "Objective value at epoch t=52 is [[0.44742849]]\n",
      "Objective value at epoch t=53 is [[0.44739962]]\n",
      "Objective value at epoch t=54 is [[0.44737505]]\n",
      "Objective value at epoch t=55 is [[0.44735122]]\n",
      "Objective value at epoch t=56 is [[0.44733189]]\n",
      "Objective value at epoch t=57 is [[0.44731354]]\n",
      "Objective value at epoch t=58 is [[0.44729703]]\n",
      "Objective value at epoch t=59 is [[0.44728181]]\n",
      "Objective value at epoch t=60 is [[0.44726848]]\n",
      "Objective value at epoch t=61 is [[0.44725631]]\n",
      "Objective value at epoch t=62 is [[0.4472454]]\n",
      "Objective value at epoch t=63 is [[0.44723564]]\n",
      "Objective value at epoch t=64 is [[0.44722672]]\n",
      "Objective value at epoch t=65 is [[0.44721886]]\n",
      "Objective value at epoch t=66 is [[0.44721177]]\n",
      "Objective value at epoch t=67 is [[0.44720529]]\n",
      "Objective value at epoch t=68 is [[0.44719948]]\n",
      "Objective value at epoch t=69 is [[0.44719427]]\n",
      "Objective value at epoch t=70 is [[0.4471896]]\n",
      "Objective value at epoch t=71 is [[0.44718535]]\n",
      "Objective value at epoch t=72 is [[0.44718153]]\n",
      "Objective value at epoch t=73 is [[0.44717813]]\n",
      "Objective value at epoch t=74 is [[0.44717504]]\n",
      "Objective value at epoch t=75 is [[0.44717226]]\n",
      "Objective value at epoch t=76 is [[0.44716976]]\n",
      "Objective value at epoch t=77 is [[0.44716752]]\n",
      "Objective value at epoch t=78 is [[0.4471655]]\n",
      "Objective value at epoch t=79 is [[0.44716367]]\n",
      "Objective value at epoch t=80 is [[0.44716204]]\n",
      "Objective value at epoch t=81 is [[0.44716056]]\n",
      "Objective value at epoch t=82 is [[0.44715923]]\n",
      "Objective value at epoch t=83 is [[0.44715804]]\n",
      "Objective value at epoch t=84 is [[0.44715696]]\n",
      "Objective value at epoch t=85 is [[0.447156]]\n",
      "Objective value at epoch t=86 is [[0.44715512]]\n",
      "Objective value at epoch t=87 is [[0.44715434]]\n",
      "Objective value at epoch t=88 is [[0.44715363]]\n",
      "Objective value at epoch t=89 is [[0.447153]]\n",
      "Objective value at epoch t=90 is [[0.44715243]]\n",
      "Objective value at epoch t=91 is [[0.44715191]]\n",
      "Objective value at epoch t=92 is [[0.44715145]]\n",
      "Objective value at epoch t=93 is [[0.44715103]]\n",
      "Objective value at epoch t=94 is [[0.44715066]]\n",
      "Objective value at epoch t=95 is [[0.44715032]]\n",
      "Objective value at epoch t=96 is [[0.44715002]]\n",
      "Objective value at epoch t=97 is [[0.44714974]]\n",
      "Objective value at epoch t=98 is [[0.4471495]]\n",
      "Objective value at epoch t=99 is [[0.44714927]]\n"
     ]
    }
   ],
   "source": [
    "# MB-SGD with batch size b=8\n",
    "lam = 1E-6 # do not change\n",
    "b = 8 # do not change\n",
    "stepsize = 0.1 # you must tune this parameter\n",
    "\n",
    "w, objvals_mbsgd8 = mb_sgd(x_train, y_train, lam, b, stepsize)"
   ]
  },
  {
   "cell_type": "code",
   "execution_count": 50,
   "metadata": {},
   "outputs": [
    {
     "name": "stdout",
     "output_type": "stream",
     "text": [
      "Objective value at epoch t=0 is [[0.49977024]]\n",
      "Objective value at epoch t=1 is [[0.50025178]]\n",
      "Objective value at epoch t=2 is [[0.48155778]]\n",
      "Objective value at epoch t=3 is [[0.47961291]]\n",
      "Objective value at epoch t=4 is [[0.48031974]]\n",
      "Objective value at epoch t=5 is [[0.484569]]\n",
      "Objective value at epoch t=6 is [[0.47583135]]\n",
      "Objective value at epoch t=7 is [[0.46644796]]\n",
      "Objective value at epoch t=8 is [[0.47545907]]\n",
      "Objective value at epoch t=9 is [[0.46584788]]\n",
      "Objective value at epoch t=10 is [[0.46207267]]\n",
      "Objective value at epoch t=11 is [[0.46442947]]\n",
      "Objective value at epoch t=12 is [[0.46151071]]\n",
      "Objective value at epoch t=13 is [[0.46014752]]\n",
      "Objective value at epoch t=14 is [[0.46177382]]\n",
      "Objective value at epoch t=15 is [[0.45583062]]\n",
      "Objective value at epoch t=16 is [[0.45852486]]\n",
      "Objective value at epoch t=17 is [[0.45674361]]\n",
      "Objective value at epoch t=18 is [[0.45650466]]\n",
      "Objective value at epoch t=19 is [[0.45361448]]\n",
      "Objective value at epoch t=20 is [[0.454585]]\n",
      "Objective value at epoch t=21 is [[0.45387642]]\n",
      "Objective value at epoch t=22 is [[0.45333143]]\n",
      "Objective value at epoch t=23 is [[0.45256997]]\n",
      "Objective value at epoch t=24 is [[0.45188691]]\n",
      "Objective value at epoch t=25 is [[0.45149953]]\n",
      "Objective value at epoch t=26 is [[0.45096781]]\n",
      "Objective value at epoch t=27 is [[0.45038796]]\n",
      "Objective value at epoch t=28 is [[0.45044465]]\n",
      "Objective value at epoch t=29 is [[0.45011181]]\n",
      "Objective value at epoch t=30 is [[0.44987763]]\n",
      "Objective value at epoch t=31 is [[0.44948735]]\n",
      "Objective value at epoch t=32 is [[0.4494042]]\n",
      "Objective value at epoch t=33 is [[0.44911468]]\n",
      "Objective value at epoch t=34 is [[0.44893964]]\n",
      "Objective value at epoch t=35 is [[0.44869791]]\n",
      "Objective value at epoch t=36 is [[0.44859172]]\n",
      "Objective value at epoch t=37 is [[0.44849096]]\n",
      "Objective value at epoch t=38 is [[0.4483495]]\n",
      "Objective value at epoch t=39 is [[0.44824625]]\n",
      "Objective value at epoch t=40 is [[0.44812924]]\n",
      "Objective value at epoch t=41 is [[0.44802271]]\n",
      "Objective value at epoch t=42 is [[0.44793862]]\n",
      "Objective value at epoch t=43 is [[0.44786505]]\n",
      "Objective value at epoch t=44 is [[0.44779131]]\n",
      "Objective value at epoch t=45 is [[0.44773175]]\n",
      "Objective value at epoch t=46 is [[0.44766878]]\n",
      "Objective value at epoch t=47 is [[0.44762054]]\n",
      "Objective value at epoch t=48 is [[0.44757498]]\n",
      "Objective value at epoch t=49 is [[0.44753081]]\n",
      "Objective value at epoch t=50 is [[0.44749461]]\n",
      "Objective value at epoch t=51 is [[0.44745962]]\n",
      "Objective value at epoch t=52 is [[0.44742719]]\n",
      "Objective value at epoch t=53 is [[0.44740039]]\n",
      "Objective value at epoch t=54 is [[0.4473756]]\n",
      "Objective value at epoch t=55 is [[0.44734897]]\n",
      "Objective value at epoch t=56 is [[0.44733201]]\n",
      "Objective value at epoch t=57 is [[0.44731315]]\n",
      "Objective value at epoch t=58 is [[0.44729711]]\n",
      "Objective value at epoch t=59 is [[0.44728197]]\n",
      "Objective value at epoch t=60 is [[0.44726862]]\n",
      "Objective value at epoch t=61 is [[0.44725642]]\n",
      "Objective value at epoch t=62 is [[0.44724564]]\n",
      "Objective value at epoch t=63 is [[0.44723594]]\n",
      "Objective value at epoch t=64 is [[0.44722698]]\n",
      "Objective value at epoch t=65 is [[0.44721909]]\n",
      "Objective value at epoch t=66 is [[0.44721188]]\n",
      "Objective value at epoch t=67 is [[0.44720552]]\n",
      "Objective value at epoch t=68 is [[0.44719972]]\n",
      "Objective value at epoch t=69 is [[0.44719448]]\n",
      "Objective value at epoch t=70 is [[0.4471898]]\n",
      "Objective value at epoch t=71 is [[0.44718552]]\n",
      "Objective value at epoch t=72 is [[0.44718174]]\n",
      "Objective value at epoch t=73 is [[0.44717828]]\n",
      "Objective value at epoch t=74 is [[0.44717524]]\n",
      "Objective value at epoch t=75 is [[0.44717247]]\n",
      "Objective value at epoch t=76 is [[0.44716997]]\n",
      "Objective value at epoch t=77 is [[0.44716771]]\n",
      "Objective value at epoch t=78 is [[0.44716569]]\n",
      "Objective value at epoch t=79 is [[0.44716387]]\n",
      "Objective value at epoch t=80 is [[0.44716223]]\n",
      "Objective value at epoch t=81 is [[0.44716075]]\n",
      "Objective value at epoch t=82 is [[0.44715942]]\n",
      "Objective value at epoch t=83 is [[0.44715823]]\n",
      "Objective value at epoch t=84 is [[0.44715715]]\n",
      "Objective value at epoch t=85 is [[0.44715618]]\n",
      "Objective value at epoch t=86 is [[0.44715531]]\n",
      "Objective value at epoch t=87 is [[0.44715453]]\n",
      "Objective value at epoch t=88 is [[0.44715382]]\n",
      "Objective value at epoch t=89 is [[0.44715319]]\n",
      "Objective value at epoch t=90 is [[0.44715261]]\n",
      "Objective value at epoch t=91 is [[0.4471521]]\n",
      "Objective value at epoch t=92 is [[0.44715164]]\n",
      "Objective value at epoch t=93 is [[0.44715122]]\n",
      "Objective value at epoch t=94 is [[0.44715084]]\n",
      "Objective value at epoch t=95 is [[0.44715051]]\n",
      "Objective value at epoch t=96 is [[0.4471502]]\n",
      "Objective value at epoch t=97 is [[0.44714993]]\n",
      "Objective value at epoch t=98 is [[0.44714968]]\n",
      "Objective value at epoch t=99 is [[0.44714946]]\n"
     ]
    }
   ],
   "source": [
    "# MB-SGD with batch size b=64\n",
    "lam = 1E-6 # do not change\n",
    "b = 64 # do not change\n",
    "stepsize = 0.1 # you must tune this parameter\n",
    "\n",
    "w, objvals_mbsgd64 = mb_sgd(x_train, y_train, lam, b, stepsize)"
   ]
  },
  {
   "cell_type": "markdown",
   "metadata": {},
   "source": [
    "# 7. Plot and compare GD, SGD, and MB-SGD"
   ]
  },
  {
   "cell_type": "markdown",
   "metadata": {},
   "source": [
    "You are required to compare the following algorithms:\n",
    "\n",
    "- Gradient descent (GD)\n",
    "\n",
    "- SGD\n",
    "\n",
    "- MB-SGD with b=8\n",
    "\n",
    "- MB-SGD with b=64\n",
    "\n",
    "Follow the code in Section 4 to plot ```objective function value``` against ```epochs```. There should be four curves in the plot; each curve corresponds to one algorithm."
   ]
  },
  {
   "cell_type": "code",
   "execution_count": 52,
   "metadata": {},
   "outputs": [
    {
     "data": {
      "image/png": "[encoded data removed]",
      "text/plain": [
       "<Figure size 432x288 with 1 Axes>"
      ]
     },
     "metadata": {
      "needs_background": "light"
     },
     "output_type": "display_data"
    }
   ],
   "source": [
    "# plot the 4 curves:\n",
    "import matplotlib.pyplot as plt\n",
    "%matplotlib inline\n",
    "\n",
    "fig = plt.figure(figsize=(6, 4))\n",
    "\n",
    "epochs_gd = range(len(objvals_gd))\n",
    "epochs_sgd = range(len(objvals_sgd))\n",
    "epochs_mb_sgd = range(len(objvals_mbsgd8))\n",
    "epochs_mb_sgd = range(len(objvals_mbsgd64))\n",
    "\n",
    "line0, = plt.plot(epochs_gd, objvals_gd, '--b', LineWidth=4)\n",
    "line1, = plt.plot(epochs_sgd, objvals_sgd, '-r', LineWidth=3)\n",
    "line2, = plt.plot(epochs_mb_sgd, objvals_mbsgd8, 'g.', LineWidth=2)\n",
    "line3, = plt.plot(epochs_mb_sgd, objvals_mbsgd64, 'y.', LineWidth=1)\n",
    "\n",
    "plt.xlabel('Epochs', FontSize=20)\n",
    "plt.ylabel('Objective Value', FontSize=20)\n",
    "plt.xticks(FontSize=16)\n",
    "plt.yticks(FontSize=16)\n",
    "plt.legend([line0, line1, line2, line3], ['GD', 'SGD','MBSGD8','MBSGD64'], fontsize=20)\n",
    "plt.tight_layout()\n",
    "plt.show()\n",
    "fig.savefig('compare_gd_sgd.pdf', format='pdf', dpi=1200)"
   ]
  },
  {
   "cell_type": "markdown",
   "metadata": {},
   "source": []
  }
 ],
 "metadata": {
  "kernelspec": {
   "display_name": "Python 3",
   "language": "python",
   "name": "python3"
  },
  "language_info": {
   "codemirror_mode": {
    "name": "ipython",
    "version": 3
   },
   "file_extension": ".py",
   "mimetype": "text/x-python",
   "name": "python",
   "nbconvert_exporter": "python",
   "pygments_lexer": "ipython3",
   "version": "3.6.8"
  }
 },
 "nbformat": 4,
 "nbformat_minor": 2
}
