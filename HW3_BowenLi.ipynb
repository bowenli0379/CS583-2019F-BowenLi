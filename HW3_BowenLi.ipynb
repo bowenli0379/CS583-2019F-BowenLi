{
 "cells": [
  {
   "cell_type": "markdown",
   "metadata": {
    "colab_type": "text",
    "id": "fc9voBBHmcRg"
   },
   "source": [
    "# Home 3: Build a CNN for image recognition.\n",
    "\n",
    "### Name: [Bowen Li]\n"
   ]
  },
  {
   "cell_type": "markdown",
   "metadata": {
    "colab_type": "text",
    "id": "Pf2liZuYmcRj"
   },
   "source": [
    "## 0. You will do the following:\n",
    "\n",
    "1. Read, complete, and run the code.\n",
    "\n",
    "2. **Make substantial improvements** to maximize the accurcy.\n",
    "    \n",
    "3. Convert the .IPYNB file to .HTML file.\n",
    "\n",
    "    * The HTML file must contain the code and the output after execution.\n",
    "    \n",
    "    \n",
    "4. Upload this .HTML file to your Google Drive, Dropbox, or Github repo.\n",
    "\n",
    "4. Submit the link to this .HTML file to Canvas.\n",
    "\n",
    "    * Example: https://github.com/wangshusen/CS583-2019F/blob/master/homework/HM3/HM3.html\n",
    "\n",
    "\n",
    "## Requirements:\n",
    "\n",
    "1. You can use whatever CNN architecture, including VGG, Inception, and ResNet. However, you must build the networks layer by layer. You must NOT import the archetectures from ```keras.applications```.\n",
    "\n",
    "2. Make sure ```BatchNormalization``` is between a ```Conv```/```Dense``` layer and an ```activation``` layer.\n",
    "\n",
    "3. If you want to regularize a ```Conv```/```Dense``` layer, you should place a ```Dropout``` layer **before** the ```Conv```/```Dense``` layer.\n",
    "\n",
    "4. An accuracy above 70% is considered reasonable. An accuracy above 80% is considered good. Without data augmentation, achieving 80% accuracy is difficult.\n",
    "\n",
    "\n",
    "## Google Colab\n",
    "\n",
    "- If you do not have GPU, the training of a CNN can be slow. Google Colab is a good option.\n",
    "\n",
    "- Keep in mind that you must download it as an IPYNB file and then use IPython Notebook to convert it to HTML.\n",
    "\n",
    "- Also keep in mind that the IPYNB and HTML files must contain the outputs. (Otherwise, the instructor will not be able to know the correctness and performance.) Do the followings to keep the outputs.\n",
    "\n",
    "- In Colab, go to ```Runtime``` --> ```Change runtime type``` --> Do NOT check ```Omit code cell output when saving this notebook```. In this way, the downloaded IPYNB file contains the outputs."
   ]
  },
  {
   "cell_type": "markdown",
   "metadata": {
    "colab_type": "text",
    "id": "Iozy9850mcRj"
   },
   "source": [
    "## 1. Data preparation"
   ]
  },
  {
   "cell_type": "markdown",
   "metadata": {
    "colab_type": "text",
    "id": "-W2beoztmcRk"
   },
   "source": [
    "### 1.1. Load data\n"
   ]
  },
  {
   "cell_type": "code",
   "execution_count": 2,
   "metadata": {
    "colab": {
     "base_uri": "https://localhost:8080/",
     "height": 102
    },
    "colab_type": "code",
    "id": "TfkY8qMmmcRl",
    "outputId": "0eb65bb7-4120-4229-a103-10ddb71e3f96"
   },
   "outputs": [
    {
     "name": "stdout",
     "output_type": "stream",
     "text": [
      "shape of x_train: (50000, 32, 32, 3)\n",
      "shape of y_train: (50000, 1)\n",
      "shape of x_test: (10000, 32, 32, 3)\n",
      "shape of y_test: (10000, 1)\n",
      "number of classes: 10\n"
     ]
    }
   ],
   "source": [
    "from keras.datasets import cifar10\n",
    "import numpy\n",
    "\n",
    "(x_train, y_train), (x_test, y_test) = cifar10.load_data()\n",
    "\n",
    "print('shape of x_train: ' + str(x_train.shape))\n",
    "print('shape of y_train: ' + str(y_train.shape))\n",
    "print('shape of x_test: ' + str(x_test.shape))\n",
    "print('shape of y_test: ' + str(y_test.shape))\n",
    "print('number of classes: ' + str(numpy.max(y_train) - numpy.min(y_train) + 1))"
   ]
  },
  {
   "cell_type": "markdown",
   "metadata": {
    "colab_type": "text",
    "id": "hGilFqFSmcRo"
   },
   "source": [
    "### 1.2. One-hot encode the labels\n",
    "\n",
    "In the input, a label is a scalar in $\\{0, 1, \\cdots , 9\\}$. One-hot encode transform such a scalar to a $10$-dim vector. E.g., a scalar ```y_train[j]=3``` is transformed to the vector ```y_train_vec[j]=[0, 0, 0, 1, 0, 0, 0, 0, 0, 0]```.\n",
    "\n",
    "1. Define a function ```to_one_hot``` that transforms an $n\\times 1$ array to a $n\\times 10$ matrix.\n",
    "\n",
    "2. Apply the function to ```y_train``` and ```y_test```."
   ]
  },
  {
   "cell_type": "code",
   "execution_count": 3,
   "metadata": {
    "colab": {
     "base_uri": "https://localhost:8080/",
     "height": 85
    },
    "colab_type": "code",
    "id": "havWS8hQmcRp",
    "outputId": "17f6f3d9-3452-4f26-d9ee-8cc4733a3b35"
   },
   "outputs": [
    {
     "name": "stdout",
     "output_type": "stream",
     "text": [
      "Shape of y_train_vec: (50000, 10)\n",
      "Shape of y_test_vec: (10000, 10)\n",
      "[6]\n",
      "[0 0 0 0 0 0 1 0 0 0]\n"
     ]
    }
   ],
   "source": [
    "def to_one_hot(y, num_class=10):\n",
    "    res = []\n",
    "    for ys in y:\n",
    "        vec = [0]*num_class\n",
    "        vec[ys[0]] = 1\n",
    "        res.append(vec)\n",
    "    return numpy.asarray(res)\n",
    "\n",
    "y_train_vec = to_one_hot(y_train)\n",
    "y_test_vec = to_one_hot(y_test)\n",
    "\n",
    "print('Shape of y_train_vec: ' + str(y_train_vec.shape))\n",
    "print('Shape of y_test_vec: ' + str(y_test_vec.shape))\n",
    "\n",
    "print(y_train[0])\n",
    "print(y_train_vec[0])"
   ]
  },
  {
   "cell_type": "markdown",
   "metadata": {
    "colab_type": "text",
    "id": "a4gkddaxmcRr"
   },
   "source": [
    "#### Remark: the outputs should be\n",
    "* Shape of y_train_vec: (50000, 10)\n",
    "* Shape of y_test_vec: (10000, 10)\n",
    "* [6]\n",
    "* [0. 0. 0. 0. 0. 0. 1. 0. 0. 0.]"
   ]
  },
  {
   "cell_type": "markdown",
   "metadata": {
    "colab_type": "text",
    "id": "lC_jlld_mcRs"
   },
   "source": [
    "### 1.3. Randomly partition the training set to training and validation sets\n",
    "\n",
    "Randomly partition the 50K training samples to 2 sets:\n",
    "* a training set containing 40K samples\n",
    "* a validation set containing 10K samples\n"
   ]
  },
  {
   "cell_type": "code",
   "execution_count": 4,
   "metadata": {
    "colab": {
     "base_uri": "https://localhost:8080/",
     "height": 85
    },
    "colab_type": "code",
    "id": "d46ENLG_mcRs",
    "outputId": "0e119b05-d8cd-4bc8-c181-6d85a4f04b05"
   },
   "outputs": [
    {
     "name": "stdout",
     "output_type": "stream",
     "text": [
      "Shape of x_tr: (40000, 32, 32, 3)\n",
      "Shape of y_tr: (40000, 10)\n",
      "Shape of x_val: (10000, 32, 32, 3)\n",
      "Shape of y_val: (10000, 10)\n"
     ]
    }
   ],
   "source": [
    "rand_indices = numpy.random.permutation(50000)\n",
    "train_indices = rand_indices[0:40000]\n",
    "valid_indices = rand_indices[40000:50000]\n",
    "\n",
    "x_val = x_train[valid_indices, :]\n",
    "y_val = y_train_vec[valid_indices, :]\n",
    "\n",
    "x_tr = x_train[train_indices, :]\n",
    "y_tr = y_train_vec[train_indices, :]\n",
    "\n",
    "print('Shape of x_tr: ' + str(x_tr.shape))\n",
    "print('Shape of y_tr: ' + str(y_tr.shape))\n",
    "print('Shape of x_val: ' + str(x_val.shape))\n",
    "print('Shape of y_val: ' + str(y_val.shape))"
   ]
  },
  {
   "cell_type": "markdown",
   "metadata": {
    "colab_type": "text",
    "id": "oAlsOdL9mcRu"
   },
   "source": [
    "## 2. Build a CNN and tune its hyper-parameters\n",
    "\n",
    "1. Build a convolutional neural network model\n",
    "2. Use the validation data to tune the hyper-parameters (e.g., network structure, and optimization algorithm)\n",
    "    * Do NOT use test data for hyper-parameter tuning!!!\n",
    "3. Try to achieve a validation accuracy as high as possible."
   ]
  },
  {
   "cell_type": "markdown",
   "metadata": {
    "colab_type": "text",
    "id": "ZQ785BsBmcRv"
   },
   "source": [
    "### Remark: \n",
    "\n",
    "The following CNN is just an example. You are supposed to make **substantial improvements** such as:\n",
    "* Add more layers.\n",
    "* Use regularizations, e.g., dropout.\n",
    "* Use batch normalization."
   ]
  },
  {
   "cell_type": "markdown",
   "metadata": {
    "colab_type": "text",
    "id": "MCH7kYW5mcRv"
   },
   "source": [
    "## 2.1 With more layers, dropout and batch normalization"
   ]
  },
  {
   "cell_type": "code",
   "execution_count": 6,
   "metadata": {
    "colab": {
     "base_uri": "https://localhost:8080/",
     "height": 901
    },
    "colab_type": "code",
    "id": "KJaqPxb4mcRw",
    "outputId": "364f2b8c-f331-4a73-b3fb-bd977c447459"
   },
   "outputs": [
    {
     "name": "stdout",
     "output_type": "stream",
     "text": [
      "Model: \"sequential_2\"\n",
      "_________________________________________________________________\n",
      "Layer (type)                 Output Shape              Param #   \n",
      "=================================================================\n",
      "conv2d_5 (Conv2D)            (None, 32, 32, 32)        896       \n",
      "_________________________________________________________________\n",
      "batch_normalization_5 (Batch (None, 32, 32, 32)        128       \n",
      "_________________________________________________________________\n",
      "activation_7 (Activation)    (None, 32, 32, 32)        0         \n",
      "_________________________________________________________________\n",
      "conv2d_6 (Conv2D)            (None, 30, 30, 32)        9248      \n",
      "_________________________________________________________________\n",
      "batch_normalization_6 (Batch (None, 30, 30, 32)        128       \n",
      "_________________________________________________________________\n",
      "activation_8 (Activation)    (None, 30, 30, 32)        0         \n",
      "_________________________________________________________________\n",
      "max_pooling2d_3 (MaxPooling2 (None, 15, 15, 32)        0         \n",
      "_________________________________________________________________\n",
      "dropout_4 (Dropout)          (None, 15, 15, 32)        0         \n",
      "_________________________________________________________________\n",
      "conv2d_7 (Conv2D)            (None, 15, 15, 64)        18496     \n",
      "_________________________________________________________________\n",
      "batch_normalization_7 (Batch (None, 15, 15, 64)        256       \n",
      "_________________________________________________________________\n",
      "activation_9 (Activation)    (None, 15, 15, 64)        0         \n",
      "_________________________________________________________________\n",
      "conv2d_8 (Conv2D)            (None, 13, 13, 64)        36928     \n",
      "_________________________________________________________________\n",
      "batch_normalization_8 (Batch (None, 13, 13, 64)        256       \n",
      "_________________________________________________________________\n",
      "activation_10 (Activation)   (None, 13, 13, 64)        0         \n",
      "_________________________________________________________________\n",
      "max_pooling2d_4 (MaxPooling2 (None, 6, 6, 64)          0         \n",
      "_________________________________________________________________\n",
      "dropout_5 (Dropout)          (None, 6, 6, 64)          0         \n",
      "_________________________________________________________________\n",
      "flatten_2 (Flatten)          (None, 2304)              0         \n",
      "_________________________________________________________________\n",
      "dense_3 (Dense)              (None, 512)               1180160   \n",
      "_________________________________________________________________\n",
      "activation_11 (Activation)   (None, 512)               0         \n",
      "_________________________________________________________________\n",
      "dropout_6 (Dropout)          (None, 512)               0         \n",
      "_________________________________________________________________\n",
      "dense_4 (Dense)              (None, 10)                5130      \n",
      "_________________________________________________________________\n",
      "activation_12 (Activation)   (None, 10)                0         \n",
      "=================================================================\n",
      "Total params: 1,251,626\n",
      "Trainable params: 1,251,242\n",
      "Non-trainable params: 384\n",
      "_________________________________________________________________\n"
     ]
    }
   ],
   "source": [
    "from keras.layers import Conv2D, MaxPooling2D, Flatten, Dense, Dropout, BatchNormalization, Activation\n",
    "from keras.models import Sequential\n",
    "\n",
    "model = Sequential()\n",
    "\n",
    "model.add(Conv2D(32, (3, 3), padding='same', input_shape=x_train.shape[1:]))\n",
    "model.add(BatchNormalization())\n",
    "model.add(Activation('relu'))\n",
    "model.add(Conv2D(32, (3, 3)))\n",
    "model.add(BatchNormalization())\n",
    "model.add(Activation('relu'))\n",
    "model.add(MaxPooling2D(pool_size=(2, 2)))\n",
    "model.add(Dropout(0.25))\n",
    "\n",
    "model.add(Conv2D(64, (3, 3), padding='same'))\n",
    "model.add(BatchNormalization())\n",
    "model.add(Activation('relu'))\n",
    "model.add(Conv2D(64, (3, 3)))\n",
    "model.add(BatchNormalization())\n",
    "model.add(Activation('relu'))\n",
    "model.add(MaxPooling2D(pool_size=(2, 2)))\n",
    "model.add(Dropout(0.25))\n",
    "\n",
    "model.add(Flatten())\n",
    "model.add(Dense(512))\n",
    "model.add(Activation('relu'))\n",
    "model.add(Dropout(0.5))\n",
    "model.add(Dense(10))\n",
    "model.add(Activation('softmax'))\n",
    "\n",
    "model.summary()"
   ]
  },
  {
   "cell_type": "code",
   "execution_count": 0,
   "metadata": {
    "colab": {},
    "colab_type": "code",
    "id": "TXEUBV3fmcRy"
   },
   "outputs": [],
   "source": [
    "from keras import optimizers\n",
    "\n",
    "opt = optimizers.rmsprop(lr=0.0001, decay=1e-6)\n",
    "\n",
    "model.compile(loss='categorical_crossentropy',\n",
    "              optimizer=opt,\n",
    "              metrics=['acc'])"
   ]
  },
  {
   "cell_type": "code",
   "execution_count": 10,
   "metadata": {
    "colab": {
     "base_uri": "https://localhost:8080/",
     "height": 1000
    },
    "colab_type": "code",
    "id": "ozkvVDgEmcRz",
    "outputId": "db8ff9f6-0b31-47cc-8579-11c8a09a3a07"
   },
   "outputs": [
    {
     "name": "stdout",
     "output_type": "stream",
     "text": [
      "Train on 40000 samples, validate on 10000 samples\n",
      "Epoch 1/100\n",
      "40000/40000 [==============================] - 21s 528us/step - loss: 1.8481 - acc: 0.3358 - val_loss: 1.4405 - val_acc: 0.4764\n",
      "Epoch 2/100\n",
      "40000/40000 [==============================] - 21s 519us/step - loss: 1.5293 - acc: 0.4482 - val_loss: 1.2722 - val_acc: 0.5368\n",
      "Epoch 3/100\n",
      "40000/40000 [==============================] - 21s 518us/step - loss: 1.3849 - acc: 0.5082 - val_loss: 1.1800 - val_acc: 0.5748\n",
      "Epoch 4/100\n",
      "40000/40000 [==============================] - 21s 515us/step - loss: 1.2911 - acc: 0.5433 - val_loss: 1.1140 - val_acc: 0.6028\n",
      "Epoch 5/100\n",
      "40000/40000 [==============================] - 21s 514us/step - loss: 1.2058 - acc: 0.5721 - val_loss: 1.1227 - val_acc: 0.5987\n",
      "Epoch 6/100\n",
      "40000/40000 [==============================] - 21s 513us/step - loss: 1.1280 - acc: 0.6040 - val_loss: 0.9806 - val_acc: 0.6487\n",
      "Epoch 7/100\n",
      "40000/40000 [==============================] - 20s 512us/step - loss: 1.0702 - acc: 0.6235 - val_loss: 0.9010 - val_acc: 0.6815\n",
      "Epoch 8/100\n",
      "40000/40000 [==============================] - 21s 515us/step - loss: 1.0235 - acc: 0.6385 - val_loss: 0.9084 - val_acc: 0.6810\n",
      "Epoch 9/100\n",
      "40000/40000 [==============================] - 21s 513us/step - loss: 0.9843 - acc: 0.6537 - val_loss: 0.9263 - val_acc: 0.6663\n",
      "Epoch 10/100\n",
      "40000/40000 [==============================] - 21s 517us/step - loss: 0.9468 - acc: 0.6704 - val_loss: 0.8516 - val_acc: 0.7032\n",
      "Epoch 11/100\n",
      "40000/40000 [==============================] - 21s 519us/step - loss: 0.9196 - acc: 0.6769 - val_loss: 0.8271 - val_acc: 0.7111\n",
      "Epoch 12/100\n",
      "40000/40000 [==============================] - 21s 513us/step - loss: 0.8927 - acc: 0.6879 - val_loss: 0.7980 - val_acc: 0.7247\n",
      "Epoch 13/100\n",
      "40000/40000 [==============================] - 21s 527us/step - loss: 0.8658 - acc: 0.6955 - val_loss: 0.8711 - val_acc: 0.6941\n",
      "Epoch 14/100\n",
      "40000/40000 [==============================] - 21s 519us/step - loss: 0.8419 - acc: 0.7062 - val_loss: 0.7982 - val_acc: 0.7214\n",
      "Epoch 15/100\n",
      "40000/40000 [==============================] - 20s 512us/step - loss: 0.8217 - acc: 0.7130 - val_loss: 0.7395 - val_acc: 0.7396\n",
      "Epoch 16/100\n",
      "40000/40000 [==============================] - 21s 516us/step - loss: 0.8006 - acc: 0.7217 - val_loss: 0.7515 - val_acc: 0.7377\n",
      "Epoch 17/100\n",
      "40000/40000 [==============================] - 21s 517us/step - loss: 0.7881 - acc: 0.7270 - val_loss: 0.7289 - val_acc: 0.7465\n",
      "Epoch 18/100\n",
      "40000/40000 [==============================] - 21s 515us/step - loss: 0.7756 - acc: 0.7331 - val_loss: 0.7285 - val_acc: 0.7443\n",
      "Epoch 19/100\n",
      "40000/40000 [==============================] - 21s 517us/step - loss: 0.7583 - acc: 0.7369 - val_loss: 0.7410 - val_acc: 0.7451\n",
      "Epoch 20/100\n",
      "40000/40000 [==============================] - 21s 517us/step - loss: 0.7489 - acc: 0.7413 - val_loss: 0.7228 - val_acc: 0.7500\n",
      "Epoch 21/100\n",
      "40000/40000 [==============================] - 21s 514us/step - loss: 0.7279 - acc: 0.7476 - val_loss: 0.7375 - val_acc: 0.7433\n",
      "Epoch 22/100\n",
      "40000/40000 [==============================] - 20s 512us/step - loss: 0.7238 - acc: 0.7504 - val_loss: 0.7083 - val_acc: 0.7521\n",
      "Epoch 23/100\n",
      "40000/40000 [==============================] - 21s 514us/step - loss: 0.7127 - acc: 0.7524 - val_loss: 0.7158 - val_acc: 0.7545\n",
      "Epoch 24/100\n",
      "40000/40000 [==============================] - 21s 515us/step - loss: 0.7026 - acc: 0.7577 - val_loss: 0.6789 - val_acc: 0.7656\n",
      "Epoch 25/100\n",
      "40000/40000 [==============================] - 21s 513us/step - loss: 0.6896 - acc: 0.7610 - val_loss: 0.6785 - val_acc: 0.7619\n",
      "Epoch 26/100\n",
      "40000/40000 [==============================] - 21s 514us/step - loss: 0.6900 - acc: 0.7648 - val_loss: 0.7182 - val_acc: 0.7473\n",
      "Epoch 27/100\n",
      "40000/40000 [==============================] - 21s 519us/step - loss: 0.6817 - acc: 0.7680 - val_loss: 0.6599 - val_acc: 0.7734\n",
      "Epoch 28/100\n",
      "40000/40000 [==============================] - 21s 520us/step - loss: 0.6733 - acc: 0.7692 - val_loss: 0.6879 - val_acc: 0.7690\n",
      "Epoch 29/100\n",
      "40000/40000 [==============================] - 21s 515us/step - loss: 0.6657 - acc: 0.7718 - val_loss: 0.6676 - val_acc: 0.7723\n",
      "Epoch 30/100\n",
      "40000/40000 [==============================] - 21s 515us/step - loss: 0.6604 - acc: 0.7739 - val_loss: 0.6728 - val_acc: 0.7680\n",
      "Epoch 31/100\n",
      "40000/40000 [==============================] - 21s 515us/step - loss: 0.6559 - acc: 0.7740 - val_loss: 0.6910 - val_acc: 0.7656\n",
      "Epoch 32/100\n",
      "40000/40000 [==============================] - 21s 513us/step - loss: 0.6504 - acc: 0.7785 - val_loss: 0.6403 - val_acc: 0.7769\n",
      "Epoch 33/100\n",
      "40000/40000 [==============================] - 21s 516us/step - loss: 0.6496 - acc: 0.7764 - val_loss: 0.6693 - val_acc: 0.7702\n",
      "Epoch 34/100\n",
      "40000/40000 [==============================] - 21s 516us/step - loss: 0.6470 - acc: 0.7773 - val_loss: 0.6746 - val_acc: 0.7677\n",
      "Epoch 35/100\n",
      "40000/40000 [==============================] - 21s 516us/step - loss: 0.6361 - acc: 0.7838 - val_loss: 0.6446 - val_acc: 0.7792\n",
      "Epoch 36/100\n",
      "40000/40000 [==============================] - 21s 513us/step - loss: 0.6339 - acc: 0.7836 - val_loss: 0.6703 - val_acc: 0.7746\n",
      "Epoch 37/100\n",
      "40000/40000 [==============================] - 21s 517us/step - loss: 0.6316 - acc: 0.7863 - val_loss: 0.6831 - val_acc: 0.7665\n",
      "Epoch 38/100\n",
      "40000/40000 [==============================] - 21s 514us/step - loss: 0.6335 - acc: 0.7833 - val_loss: 0.6649 - val_acc: 0.7757\n",
      "Epoch 39/100\n",
      "40000/40000 [==============================] - 21s 516us/step - loss: 0.6256 - acc: 0.7886 - val_loss: 0.6579 - val_acc: 0.7769\n",
      "Epoch 40/100\n",
      "40000/40000 [==============================] - 21s 519us/step - loss: 0.6207 - acc: 0.7891 - val_loss: 0.6530 - val_acc: 0.7801\n",
      "Epoch 41/100\n",
      "40000/40000 [==============================] - 21s 515us/step - loss: 0.6191 - acc: 0.7900 - val_loss: 0.6202 - val_acc: 0.7896\n",
      "Epoch 42/100\n",
      "40000/40000 [==============================] - 21s 519us/step - loss: 0.6144 - acc: 0.7927 - val_loss: 0.6544 - val_acc: 0.7765\n",
      "Epoch 43/100\n",
      "40000/40000 [==============================] - 21s 525us/step - loss: 0.6155 - acc: 0.7935 - val_loss: 0.6402 - val_acc: 0.7858\n",
      "Epoch 44/100\n",
      "40000/40000 [==============================] - 21s 513us/step - loss: 0.6023 - acc: 0.7948 - val_loss: 0.6555 - val_acc: 0.7804\n",
      "Epoch 45/100\n",
      "40000/40000 [==============================] - 21s 517us/step - loss: 0.6077 - acc: 0.7957 - val_loss: 0.6719 - val_acc: 0.7752\n",
      "Epoch 46/100\n",
      "40000/40000 [==============================] - 21s 518us/step - loss: 0.6003 - acc: 0.7973 - val_loss: 0.6478 - val_acc: 0.7791\n",
      "Epoch 47/100\n",
      "40000/40000 [==============================] - 21s 516us/step - loss: 0.6020 - acc: 0.7985 - val_loss: 0.6630 - val_acc: 0.7727\n",
      "Epoch 48/100\n",
      "40000/40000 [==============================] - 21s 518us/step - loss: 0.5999 - acc: 0.7980 - val_loss: 0.6414 - val_acc: 0.7836\n",
      "Epoch 49/100\n",
      "40000/40000 [==============================] - 21s 515us/step - loss: 0.5957 - acc: 0.7976 - val_loss: 0.6648 - val_acc: 0.7759\n",
      "Epoch 50/100\n",
      "40000/40000 [==============================] - 21s 519us/step - loss: 0.5957 - acc: 0.8000 - val_loss: 0.6787 - val_acc: 0.7738\n",
      "Epoch 51/100\n",
      "40000/40000 [==============================] - 21s 515us/step - loss: 0.6001 - acc: 0.8004 - val_loss: 0.6667 - val_acc: 0.7804\n",
      "Epoch 52/100\n",
      "40000/40000 [==============================] - 21s 518us/step - loss: 0.5963 - acc: 0.8002 - val_loss: 0.6427 - val_acc: 0.7846\n",
      "Epoch 53/100\n",
      "40000/40000 [==============================] - 21s 516us/step - loss: 0.5911 - acc: 0.8034 - val_loss: 0.6716 - val_acc: 0.7748\n",
      "Epoch 54/100\n",
      "40000/40000 [==============================] - 21s 516us/step - loss: 0.5858 - acc: 0.8033 - val_loss: 0.6710 - val_acc: 0.7870\n",
      "Epoch 55/100\n",
      "40000/40000 [==============================] - 21s 516us/step - loss: 0.5964 - acc: 0.8040 - val_loss: 0.6506 - val_acc: 0.7864\n",
      "Epoch 56/100\n",
      "40000/40000 [==============================] - 21s 517us/step - loss: 0.5939 - acc: 0.8002 - val_loss: 0.6234 - val_acc: 0.7946\n",
      "Epoch 57/100\n",
      "40000/40000 [==============================] - 21s 518us/step - loss: 0.5857 - acc: 0.8032 - val_loss: 0.6352 - val_acc: 0.7846\n",
      "Epoch 58/100\n",
      "40000/40000 [==============================] - 21s 527us/step - loss: 0.5833 - acc: 0.8057 - val_loss: 0.6255 - val_acc: 0.7931\n",
      "Epoch 59/100\n",
      "40000/40000 [==============================] - 21s 517us/step - loss: 0.5785 - acc: 0.8074 - val_loss: 0.6289 - val_acc: 0.7914\n",
      "Epoch 60/100\n",
      "40000/40000 [==============================] - 21s 520us/step - loss: 0.5799 - acc: 0.8058 - val_loss: 0.6491 - val_acc: 0.7850\n",
      "Epoch 61/100\n",
      "40000/40000 [==============================] - 21s 515us/step - loss: 0.5863 - acc: 0.8049 - val_loss: 0.6308 - val_acc: 0.7936\n",
      "Epoch 62/100\n",
      "40000/40000 [==============================] - 21s 522us/step - loss: 0.5864 - acc: 0.8046 - val_loss: 0.6594 - val_acc: 0.7886\n",
      "Epoch 63/100\n",
      "40000/40000 [==============================] - 21s 516us/step - loss: 0.5857 - acc: 0.8062 - val_loss: 0.6295 - val_acc: 0.7925\n",
      "Epoch 64/100\n",
      "40000/40000 [==============================] - 21s 517us/step - loss: 0.5822 - acc: 0.8072 - val_loss: 0.7206 - val_acc: 0.7679\n",
      "Epoch 65/100\n",
      "40000/40000 [==============================] - 21s 513us/step - loss: 0.5837 - acc: 0.8081 - val_loss: 0.6349 - val_acc: 0.7893\n",
      "Epoch 66/100\n",
      "40000/40000 [==============================] - 21s 518us/step - loss: 0.5812 - acc: 0.8082 - val_loss: 0.6423 - val_acc: 0.7906\n",
      "Epoch 67/100\n",
      "40000/40000 [==============================] - 21s 513us/step - loss: 0.5721 - acc: 0.8093 - val_loss: 0.6849 - val_acc: 0.7709\n",
      "Epoch 68/100\n",
      "40000/40000 [==============================] - 21s 519us/step - loss: 0.5780 - acc: 0.8097 - val_loss: 0.6475 - val_acc: 0.7861\n",
      "Epoch 69/100\n",
      "40000/40000 [==============================] - 21s 513us/step - loss: 0.5786 - acc: 0.8092 - val_loss: 0.6734 - val_acc: 0.7739\n",
      "Epoch 70/100\n",
      "40000/40000 [==============================] - 21s 517us/step - loss: 0.5765 - acc: 0.8103 - val_loss: 0.6235 - val_acc: 0.7942\n",
      "Epoch 71/100\n",
      "40000/40000 [==============================] - 21s 514us/step - loss: 0.5829 - acc: 0.8095 - val_loss: 0.6596 - val_acc: 0.7855\n",
      "Epoch 72/100\n",
      "40000/40000 [==============================] - 21s 523us/step - loss: 0.5805 - acc: 0.8095 - val_loss: 0.7526 - val_acc: 0.7632\n",
      "Epoch 73/100\n",
      "40000/40000 [==============================] - 21s 523us/step - loss: 0.5765 - acc: 0.8105 - val_loss: 0.6802 - val_acc: 0.7774\n",
      "Epoch 74/100\n",
      "40000/40000 [==============================] - 21s 524us/step - loss: 0.5800 - acc: 0.8093 - val_loss: 0.6350 - val_acc: 0.7919\n",
      "Epoch 75/100\n",
      "40000/40000 [==============================] - 21s 519us/step - loss: 0.5748 - acc: 0.8089 - val_loss: 0.6407 - val_acc: 0.7926\n",
      "Epoch 76/100\n",
      "40000/40000 [==============================] - 21s 519us/step - loss: 0.5733 - acc: 0.8100 - val_loss: 0.6960 - val_acc: 0.7690\n",
      "Epoch 77/100\n",
      "40000/40000 [==============================] - 21s 514us/step - loss: 0.5779 - acc: 0.8117 - val_loss: 0.7309 - val_acc: 0.7601\n",
      "Epoch 78/100\n",
      "40000/40000 [==============================] - 21s 518us/step - loss: 0.5738 - acc: 0.8117 - val_loss: 0.6888 - val_acc: 0.7881\n",
      "Epoch 79/100\n",
      "40000/40000 [==============================] - 21s 516us/step - loss: 0.5801 - acc: 0.8115 - val_loss: 0.6780 - val_acc: 0.7793\n",
      "Epoch 80/100\n",
      "40000/40000 [==============================] - 21s 516us/step - loss: 0.5732 - acc: 0.8104 - val_loss: 0.6749 - val_acc: 0.7766\n",
      "Epoch 81/100\n",
      "40000/40000 [==============================] - 21s 517us/step - loss: 0.5774 - acc: 0.8119 - val_loss: 0.6638 - val_acc: 0.7890\n",
      "Epoch 82/100\n",
      "40000/40000 [==============================] - 21s 516us/step - loss: 0.5767 - acc: 0.8119 - val_loss: 0.6705 - val_acc: 0.7797\n",
      "Epoch 83/100\n",
      "40000/40000 [==============================] - 21s 513us/step - loss: 0.5826 - acc: 0.8095 - val_loss: 0.6994 - val_acc: 0.7733\n",
      "Epoch 84/100\n",
      "40000/40000 [==============================] - 21s 521us/step - loss: 0.5708 - acc: 0.8139 - val_loss: 0.6567 - val_acc: 0.7942\n",
      "Epoch 85/100\n",
      "40000/40000 [==============================] - 21s 517us/step - loss: 0.5774 - acc: 0.8129 - val_loss: 0.6742 - val_acc: 0.7788\n",
      "Epoch 86/100\n",
      "40000/40000 [==============================] - 21s 515us/step - loss: 0.5746 - acc: 0.8119 - val_loss: 0.6521 - val_acc: 0.7898\n",
      "Epoch 87/100\n",
      "40000/40000 [==============================] - 21s 517us/step - loss: 0.5791 - acc: 0.8103 - val_loss: 0.6755 - val_acc: 0.7771\n",
      "Epoch 88/100\n",
      "40000/40000 [==============================] - 21s 520us/step - loss: 0.5834 - acc: 0.8125 - val_loss: 0.6679 - val_acc: 0.7846\n",
      "Epoch 89/100\n",
      "40000/40000 [==============================] - 21s 517us/step - loss: 0.5798 - acc: 0.8112 - val_loss: 0.6925 - val_acc: 0.7723\n",
      "Epoch 90/100\n",
      "40000/40000 [==============================] - 20s 511us/step - loss: 0.5859 - acc: 0.8082 - val_loss: 0.6697 - val_acc: 0.7830\n",
      "Epoch 91/100\n",
      "40000/40000 [==============================] - 20s 511us/step - loss: 0.5857 - acc: 0.8079 - val_loss: 0.6746 - val_acc: 0.7839\n",
      "Epoch 92/100\n",
      "40000/40000 [==============================] - 21s 516us/step - loss: 0.5801 - acc: 0.8121 - val_loss: 0.6268 - val_acc: 0.7985\n",
      "Epoch 93/100\n",
      "40000/40000 [==============================] - 20s 512us/step - loss: 0.5846 - acc: 0.8093 - val_loss: 0.6942 - val_acc: 0.7800\n",
      "Epoch 94/100\n",
      "40000/40000 [==============================] - 21s 515us/step - loss: 0.5862 - acc: 0.8097 - val_loss: 0.6601 - val_acc: 0.7899\n",
      "Epoch 95/100\n",
      "40000/40000 [==============================] - 20s 511us/step - loss: 0.5912 - acc: 0.8093 - val_loss: 0.6947 - val_acc: 0.7709\n",
      "Epoch 96/100\n",
      "40000/40000 [==============================] - 21s 516us/step - loss: 0.5812 - acc: 0.8107 - val_loss: 0.6655 - val_acc: 0.7815\n",
      "Epoch 97/100\n",
      "40000/40000 [==============================] - 21s 514us/step - loss: 0.5803 - acc: 0.8109 - val_loss: 0.6843 - val_acc: 0.7790\n",
      "Epoch 98/100\n",
      "40000/40000 [==============================] - 21s 516us/step - loss: 0.5820 - acc: 0.8119 - val_loss: 0.6981 - val_acc: 0.7768\n",
      "Epoch 99/100\n",
      "40000/40000 [==============================] - 21s 513us/step - loss: 0.5882 - acc: 0.8103 - val_loss: 0.6990 - val_acc: 0.7745\n",
      "Epoch 100/100\n",
      "40000/40000 [==============================] - 21s 515us/step - loss: 0.5881 - acc: 0.8095 - val_loss: 0.6790 - val_acc: 0.7834\n"
     ]
    }
   ],
   "source": [
    "history = model.fit(x_tr, y_tr, batch_size=32, epochs=100, validation_data=(x_val, y_val))"
   ]
  },
  {
   "cell_type": "code",
   "execution_count": 11,
   "metadata": {
    "colab": {
     "base_uri": "https://localhost:8080/",
     "height": 119
    },
    "colab_type": "code",
    "id": "z7hHuIZ2yUQf",
    "outputId": "64eee51d-3d48-433f-d726-3c1bc5282df6"
   },
   "outputs": [
    {
     "name": "stdout",
     "output_type": "stream",
     "text": [
      "40000/40000 [==============================] - 7s 173us/step\n",
      "Training loss = 0.456110947573185\n",
      "Training accuracy = 0.874975\n",
      "10000/10000 [==============================] - 2s 174us/step\n",
      "Validation loss = 0.6789758045673371\n",
      "Validation accuracy = 0.7834\n"
     ]
    }
   ],
   "source": [
    "loss_and_acc1 = model.evaluate(x_tr, y_tr)\n",
    "print('Training loss = ' + str(loss_and_acc1[0]))\n",
    "print('Training accuracy = ' + str(loss_and_acc1[1]))\n",
    "\n",
    "loss_and_acc2 = model.evaluate(x_val, y_val)\n",
    "print('Validation loss = ' + str(loss_and_acc2[0]))\n",
    "print('Validation accuracy = ' + str(loss_and_acc2[1]))"
   ]
  },
  {
   "cell_type": "code",
   "execution_count": 12,
   "metadata": {
    "colab": {
     "base_uri": "https://localhost:8080/",
     "height": 279
    },
    "colab_type": "code",
    "id": "AvAe7NSdmcR1",
    "outputId": "2adb7150-8f10-4b63-8573-74f5339cbfec"
   },
   "outputs": [
    {
     "data": {
      "image/png": "[encoded data removed]",
      "text/plain": [
       "<Figure size 432x288 with 1 Axes>"
      ]
     },
     "metadata": {
      "tags": []
     },
     "output_type": "display_data"
    }
   ],
   "source": [
    "import matplotlib.pyplot as plt\n",
    "%matplotlib inline\n",
    "\n",
    "acc = history.history['acc']\n",
    "val_acc = history.history['val_acc']\n",
    "\n",
    "epochs = range(len(acc))\n",
    "\n",
    "plt.plot(epochs, acc, 'bo', label='Training acc')\n",
    "plt.plot(epochs, val_acc, 'r', label='Validation acc')\n",
    "plt.xlabel('Epochs')\n",
    "plt.ylabel('Accuracy')\n",
    "plt.legend()\n",
    "plt.show()"
   ]
  },
  {
   "cell_type": "markdown",
   "metadata": {
    "colab_type": "text",
    "id": "LWZwWUf6mcR5"
   },
   "source": [
    "## 3. Train (again) and evaluate the model\n",
    "\n",
    "- To this end, you have found the \"best\" hyper-parameters. \n",
    "- Now, fix the hyper-parameters and train the network on the entire training set (all the 50K training samples)\n",
    "- Evaluate your model on the test set."
   ]
  },
  {
   "cell_type": "markdown",
   "metadata": {
    "colab_type": "text",
    "id": "7QgzrXvHmcR6"
   },
   "source": [
    "### 3.1. Train the model on the entire training set\n",
    "\n",
    "Why? Previously, you used 40K samples for training; you wasted 10K samples for the sake of hyper-parameter tuning. Now you already know the hyper-parameters, so why not using all the 50K samples for training?"
   ]
  },
  {
   "cell_type": "code",
   "execution_count": 18,
   "metadata": {
    "colab": {
     "base_uri": "https://localhost:8080/",
     "height": 1000
    },
    "colab_type": "code",
    "id": "Zvdv7coamcR8",
    "outputId": "83fd69d4-4d9c-461c-eccf-8e531d125ca3"
   },
   "outputs": [
    {
     "name": "stdout",
     "output_type": "stream",
     "text": [
      "Epoch 1/100\n",
      "50000/50000 [==============================] - 25s 497us/step - loss: 0.6900 - acc: 0.7790\n",
      "Epoch 2/100\n",
      "50000/50000 [==============================] - 24s 486us/step - loss: 0.6705 - acc: 0.7843\n",
      "Epoch 3/100\n",
      "50000/50000 [==============================] - 24s 484us/step - loss: 0.6676 - acc: 0.7855\n",
      "Epoch 4/100\n",
      "50000/50000 [==============================] - 24s 485us/step - loss: 0.6696 - acc: 0.7851\n",
      "Epoch 5/100\n",
      "50000/50000 [==============================] - 24s 480us/step - loss: 0.6574 - acc: 0.7879\n",
      "Epoch 6/100\n",
      "50000/50000 [==============================] - 24s 484us/step - loss: 0.6608 - acc: 0.7879\n",
      "Epoch 7/100\n",
      "50000/50000 [==============================] - 24s 484us/step - loss: 0.6592 - acc: 0.7878\n",
      "Epoch 8/100\n",
      "50000/50000 [==============================] - 24s 485us/step - loss: 0.6652 - acc: 0.7877\n",
      "Epoch 9/100\n",
      "50000/50000 [==============================] - 24s 481us/step - loss: 0.6594 - acc: 0.7881\n",
      "Epoch 10/100\n",
      "50000/50000 [==============================] - 24s 479us/step - loss: 0.6647 - acc: 0.7870\n",
      "Epoch 11/100\n",
      "50000/50000 [==============================] - 24s 480us/step - loss: 0.6574 - acc: 0.7871\n",
      "Epoch 12/100\n",
      "50000/50000 [==============================] - 24s 478us/step - loss: 0.6573 - acc: 0.7886\n",
      "Epoch 13/100\n",
      "50000/50000 [==============================] - 24s 485us/step - loss: 0.6564 - acc: 0.7874\n",
      "Epoch 14/100\n",
      "50000/50000 [==============================] - 24s 481us/step - loss: 0.6669 - acc: 0.7867\n",
      "Epoch 15/100\n",
      "50000/50000 [==============================] - 24s 478us/step - loss: 0.6631 - acc: 0.7850\n",
      "Epoch 16/100\n",
      "50000/50000 [==============================] - 24s 482us/step - loss: 0.6603 - acc: 0.7866\n",
      "Epoch 17/100\n",
      "50000/50000 [==============================] - 24s 478us/step - loss: 0.6609 - acc: 0.7883\n",
      "Epoch 18/100\n",
      "50000/50000 [==============================] - 24s 480us/step - loss: 0.6622 - acc: 0.7859\n",
      "Epoch 19/100\n",
      "50000/50000 [==============================] - 24s 481us/step - loss: 0.6593 - acc: 0.7895\n",
      "Epoch 20/100\n",
      "50000/50000 [==============================] - 24s 480us/step - loss: 0.6635 - acc: 0.7900\n",
      "Epoch 21/100\n",
      "50000/50000 [==============================] - 24s 484us/step - loss: 0.6561 - acc: 0.7899\n",
      "Epoch 22/100\n",
      "50000/50000 [==============================] - 24s 478us/step - loss: 0.6608 - acc: 0.7870\n",
      "Epoch 23/100\n",
      "50000/50000 [==============================] - 24s 485us/step - loss: 0.6637 - acc: 0.7870\n",
      "Epoch 24/100\n",
      "50000/50000 [==============================] - 24s 479us/step - loss: 0.6623 - acc: 0.7903\n",
      "Epoch 25/100\n",
      "50000/50000 [==============================] - 24s 477us/step - loss: 0.6695 - acc: 0.7867\n",
      "Epoch 26/100\n",
      "50000/50000 [==============================] - 24s 488us/step - loss: 0.6663 - acc: 0.7863\n",
      "Epoch 27/100\n",
      "50000/50000 [==============================] - 24s 475us/step - loss: 0.6653 - acc: 0.7870\n",
      "Epoch 28/100\n",
      "50000/50000 [==============================] - 24s 480us/step - loss: 0.6685 - acc: 0.7872\n",
      "Epoch 29/100\n",
      "50000/50000 [==============================] - 24s 476us/step - loss: 0.6603 - acc: 0.7885\n",
      "Epoch 30/100\n",
      "50000/50000 [==============================] - 24s 479us/step - loss: 0.6711 - acc: 0.7861\n",
      "Epoch 31/100\n",
      "50000/50000 [==============================] - 24s 478us/step - loss: 0.6767 - acc: 0.7840\n",
      "Epoch 32/100\n",
      "50000/50000 [==============================] - 24s 476us/step - loss: 0.6652 - acc: 0.7875\n",
      "Epoch 33/100\n",
      "50000/50000 [==============================] - 24s 479us/step - loss: 0.6594 - acc: 0.7872\n",
      "Epoch 34/100\n",
      "50000/50000 [==============================] - 24s 477us/step - loss: 0.6732 - acc: 0.7858\n",
      "Epoch 35/100\n",
      "50000/50000 [==============================] - 24s 481us/step - loss: 0.6699 - acc: 0.7849\n",
      "Epoch 36/100\n",
      "50000/50000 [==============================] - 24s 480us/step - loss: 0.6642 - acc: 0.7914\n",
      "Epoch 37/100\n",
      "50000/50000 [==============================] - 24s 480us/step - loss: 0.6700 - acc: 0.7869\n",
      "Epoch 38/100\n",
      "50000/50000 [==============================] - 24s 480us/step - loss: 0.6714 - acc: 0.7872\n",
      "Epoch 39/100\n",
      "50000/50000 [==============================] - 24s 484us/step - loss: 0.6820 - acc: 0.7829\n",
      "Epoch 40/100\n",
      "50000/50000 [==============================] - 24s 480us/step - loss: 0.6765 - acc: 0.7848\n",
      "Epoch 41/100\n",
      "50000/50000 [==============================] - 24s 475us/step - loss: 0.6731 - acc: 0.7875\n",
      "Epoch 42/100\n",
      "50000/50000 [==============================] - 24s 480us/step - loss: 0.6717 - acc: 0.7855\n",
      "Epoch 43/100\n",
      "50000/50000 [==============================] - 24s 478us/step - loss: 0.6779 - acc: 0.7846\n",
      "Epoch 44/100\n",
      "50000/50000 [==============================] - 24s 478us/step - loss: 0.6758 - acc: 0.7875\n",
      "Epoch 45/100\n",
      "50000/50000 [==============================] - 24s 478us/step - loss: 0.6840 - acc: 0.7832\n",
      "Epoch 46/100\n",
      "50000/50000 [==============================] - 24s 480us/step - loss: 0.6821 - acc: 0.7834\n",
      "Epoch 47/100\n",
      "50000/50000 [==============================] - 24s 482us/step - loss: 0.6745 - acc: 0.7853\n",
      "Epoch 48/100\n",
      "50000/50000 [==============================] - 24s 478us/step - loss: 0.6860 - acc: 0.7822\n",
      "Epoch 49/100\n",
      "50000/50000 [==============================] - 24s 482us/step - loss: 0.6794 - acc: 0.7846\n",
      "Epoch 50/100\n",
      "50000/50000 [==============================] - 24s 478us/step - loss: 0.6884 - acc: 0.7850\n",
      "Epoch 51/100\n",
      "50000/50000 [==============================] - 24s 477us/step - loss: 0.6826 - acc: 0.7846\n",
      "Epoch 52/100\n",
      "50000/50000 [==============================] - 24s 484us/step - loss: 0.6784 - acc: 0.7835\n",
      "Epoch 53/100\n",
      "50000/50000 [==============================] - 24s 479us/step - loss: 0.6864 - acc: 0.7851\n",
      "Epoch 54/100\n",
      "50000/50000 [==============================] - 24s 481us/step - loss: 0.6862 - acc: 0.7847\n",
      "Epoch 55/100\n",
      "50000/50000 [==============================] - 24s 479us/step - loss: 0.6923 - acc: 0.7835\n",
      "Epoch 56/100\n",
      "50000/50000 [==============================] - 24s 480us/step - loss: 0.6810 - acc: 0.7847\n",
      "Epoch 57/100\n",
      "50000/50000 [==============================] - 24s 479us/step - loss: 0.6903 - acc: 0.7815\n",
      "Epoch 58/100\n",
      "50000/50000 [==============================] - 24s 476us/step - loss: 0.6928 - acc: 0.7828\n",
      "Epoch 59/100\n",
      "50000/50000 [==============================] - 24s 479us/step - loss: 0.6899 - acc: 0.7831\n",
      "Epoch 60/100\n",
      "50000/50000 [==============================] - 24s 480us/step - loss: 0.6871 - acc: 0.7820\n",
      "Epoch 61/100\n",
      "50000/50000 [==============================] - 24s 479us/step - loss: 0.6914 - acc: 0.7832\n",
      "Epoch 62/100\n",
      "50000/50000 [==============================] - 24s 482us/step - loss: 0.6926 - acc: 0.7850\n",
      "Epoch 63/100\n",
      "50000/50000 [==============================] - 24s 481us/step - loss: 0.6925 - acc: 0.7819\n",
      "Epoch 64/100\n",
      "50000/50000 [==============================] - 24s 483us/step - loss: 0.7038 - acc: 0.7808\n",
      "Epoch 65/100\n",
      "50000/50000 [==============================] - 24s 484us/step - loss: 0.7052 - acc: 0.7782\n",
      "Epoch 66/100\n",
      "50000/50000 [==============================] - 24s 481us/step - loss: 0.6923 - acc: 0.7833\n",
      "Epoch 67/100\n",
      "50000/50000 [==============================] - 24s 481us/step - loss: 0.6980 - acc: 0.7814\n",
      "Epoch 68/100\n",
      "50000/50000 [==============================] - 24s 479us/step - loss: 0.6957 - acc: 0.7825\n",
      "Epoch 69/100\n",
      "50000/50000 [==============================] - 24s 479us/step - loss: 0.6972 - acc: 0.7820\n",
      "Epoch 70/100\n",
      "50000/50000 [==============================] - 24s 478us/step - loss: 0.7025 - acc: 0.7812\n",
      "Epoch 71/100\n",
      "50000/50000 [==============================] - 24s 482us/step - loss: 0.7000 - acc: 0.7808\n",
      "Epoch 72/100\n",
      "50000/50000 [==============================] - 24s 478us/step - loss: 0.7057 - acc: 0.7808\n",
      "Epoch 73/100\n",
      "50000/50000 [==============================] - 24s 479us/step - loss: 0.7011 - acc: 0.7775\n",
      "Epoch 74/100\n",
      "50000/50000 [==============================] - 24s 481us/step - loss: 0.7067 - acc: 0.7790\n",
      "Epoch 75/100\n",
      "50000/50000 [==============================] - 24s 481us/step - loss: 0.7039 - acc: 0.7803\n",
      "Epoch 76/100\n",
      "50000/50000 [==============================] - 24s 482us/step - loss: 0.7001 - acc: 0.7811\n",
      "Epoch 77/100\n",
      "50000/50000 [==============================] - 24s 477us/step - loss: 0.7099 - acc: 0.7797\n",
      "Epoch 78/100\n",
      "50000/50000 [==============================] - 24s 489us/step - loss: 0.7030 - acc: 0.7794\n",
      "Epoch 79/100\n",
      "50000/50000 [==============================] - 24s 478us/step - loss: 0.7033 - acc: 0.7808\n",
      "Epoch 80/100\n",
      "50000/50000 [==============================] - 24s 482us/step - loss: 0.7057 - acc: 0.7811\n",
      "Epoch 81/100\n",
      "50000/50000 [==============================] - 24s 477us/step - loss: 0.7022 - acc: 0.7839\n",
      "Epoch 82/100\n",
      "50000/50000 [==============================] - 24s 481us/step - loss: 0.7099 - acc: 0.7799\n",
      "Epoch 83/100\n",
      "50000/50000 [==============================] - 24s 482us/step - loss: 0.7081 - acc: 0.7779\n",
      "Epoch 84/100\n",
      "50000/50000 [==============================] - 24s 480us/step - loss: 0.7150 - acc: 0.7793\n",
      "Epoch 85/100\n",
      "50000/50000 [==============================] - 24s 484us/step - loss: 0.7095 - acc: 0.7794\n",
      "Epoch 86/100\n",
      "50000/50000 [==============================] - 24s 479us/step - loss: 0.7037 - acc: 0.7800\n",
      "Epoch 87/100\n",
      "50000/50000 [==============================] - 24s 485us/step - loss: 0.7170 - acc: 0.7777\n",
      "Epoch 88/100\n",
      "50000/50000 [==============================] - 24s 479us/step - loss: 0.7102 - acc: 0.7772\n",
      "Epoch 89/100\n",
      "50000/50000 [==============================] - 24s 482us/step - loss: 0.7129 - acc: 0.7762\n",
      "Epoch 90/100\n",
      "50000/50000 [==============================] - 24s 481us/step - loss: 0.7051 - acc: 0.7809\n",
      "Epoch 91/100\n",
      "50000/50000 [==============================] - 24s 483us/step - loss: 0.7072 - acc: 0.7804\n",
      "Epoch 92/100\n",
      "50000/50000 [==============================] - 24s 482us/step - loss: 0.7061 - acc: 0.7771\n",
      "Epoch 93/100\n",
      "50000/50000 [==============================] - 24s 477us/step - loss: 0.7082 - acc: 0.7781\n",
      "Epoch 94/100\n",
      "50000/50000 [==============================] - 24s 480us/step - loss: 0.7205 - acc: 0.7760\n",
      "Epoch 95/100\n",
      "50000/50000 [==============================] - 24s 479us/step - loss: 0.7087 - acc: 0.7783\n",
      "Epoch 96/100\n",
      "50000/50000 [==============================] - 24s 478us/step - loss: 0.7010 - acc: 0.7798\n",
      "Epoch 97/100\n",
      "50000/50000 [==============================] - 24s 481us/step - loss: 0.7170 - acc: 0.7771\n",
      "Epoch 98/100\n",
      "50000/50000 [==============================] - 24s 478us/step - loss: 0.7146 - acc: 0.7767\n",
      "Epoch 99/100\n",
      "50000/50000 [==============================] - 24s 480us/step - loss: 0.7097 - acc: 0.7805\n",
      "Epoch 100/100\n",
      "50000/50000 [==============================] - 24s 481us/step - loss: 0.7161 - acc: 0.7793\n"
     ]
    }
   ],
   "source": [
    "history = model.fit(x_train, y_train_vec, batch_size=32, epochs=100)"
   ]
  },
  {
   "cell_type": "markdown",
   "metadata": {
    "colab_type": "text",
    "id": "wGFqNTcNmcR-"
   },
   "source": [
    "### 3.2. Evaluate the model on the test set\n",
    "\n",
    "Do NOT used the test set until now. Make sure that your model parameters and hyper-parameters are independent of the test set."
   ]
  },
  {
   "cell_type": "code",
   "execution_count": 19,
   "metadata": {
    "colab": {
     "base_uri": "https://localhost:8080/",
     "height": 68
    },
    "colab_type": "code",
    "id": "JyX2dCCHmcR_",
    "outputId": "f756674a-ac25-4c49-cdf6-3691d7f6ebda"
   },
   "outputs": [
    {
     "name": "stdout",
     "output_type": "stream",
     "text": [
      "10000/10000 [==============================] - 2s 174us/step\n",
      "Test loss = 0.7383095815658569\n",
      "Test accuracy = 0.761\n"
     ]
    }
   ],
   "source": [
    "loss_and_acc3 = model.evaluate(x_test, y_test_vec)\n",
    "print('Test loss = ' + str(loss_and_acc3[0]))\n",
    "print('Test accuracy = ' + str(loss_and_acc3[1]))"
   ]
  },
  {
   "cell_type": "code",
   "execution_count": 0,
   "metadata": {
    "colab": {},
    "colab_type": "code",
    "id": "9Jt4x9qQmcSB"
   },
   "outputs": [],
   "source": []
  }
 ],
 "metadata": {
  "accelerator": "GPU",
  "colab": {
   "name": "HW3_BowenLi.ipynb",
   "provenance": []
  },
  "kernelspec": {
   "display_name": "Python 3",
   "language": "python",
   "name": "python3"
  },
  "language_info": {
   "codemirror_mode": {
    "name": "ipython",
    "version": 3
   },
   "file_extension": ".py",
   "mimetype": "text/x-python",
   "name": "python",
   "nbconvert_exporter": "python",
   "pygments_lexer": "ipython3",
   "version": "3.6.8"
  }
 },
 "nbformat": 4,
 "nbformat_minor": 1
}
