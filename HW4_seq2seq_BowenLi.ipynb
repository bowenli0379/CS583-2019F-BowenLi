{
 "cells": [
  {
   "cell_type": "markdown",
   "metadata": {
    "colab_type": "text",
    "id": "vBRYZZo50CEt"
   },
   "source": [
    "# Home 4: Build a seq2seq model for machine translation.\n",
    "\n",
    "### Name: [Bowen Li]\n",
    "\n",
    "### Task: Translate English to [French]"
   ]
  },
  {
   "cell_type": "markdown",
   "metadata": {
    "colab_type": "text",
    "id": "J-e-2WZl0CEv"
   },
   "source": [
    "## 0. You will do the following:\n",
    "\n",
    "1. Read and run my code.\n",
    "2. Complete the code in Section 1.1 and Section 4.2.\n",
    "\n",
    "    * Translation English to **German** is not acceptable!!! Try another language.\n",
    "    \n",
    "3. **Make improvements.** Directly modify the code in Section 3. Do at least one of the followings. By doing more, you will get up to 2 bonus scores to the total.\n",
    "\n",
    "    * Bi-LSTM instead of LSTM\n",
    "    \n",
    "    * Multi-task learning (e.g., both English to French and English to Spanish)\n",
    "    \n",
    "    * Attention\n",
    "    \n",
    "4. Evaluate the translation using the BLEU score. \n",
    "\n",
    "    * Optional. Up to 2 bonus scores to the total.\n",
    "    \n",
    "5. Convert the notebook to .HTML file. \n",
    "\n",
    "    * The HTML file must contain the code and the output after execution.\n",
    "\n",
    "6. Put the .HTML file in your own Github repo. \n",
    "\n",
    "7. Submit the link to the HTML file to Canvas\n",
    "\n",
    "    * E.g., https://github.com/wangshusen/CS583A-2019Spring/blob/master/homework/HM4/seq2seq.html"
   ]
  },
  {
   "cell_type": "markdown",
   "metadata": {
    "colab_type": "text",
    "id": "HQw01t3s0CEw"
   },
   "source": [
    "#### Hint: To implement Bi-LSTM, you will need the following code to build the encoder; the decoder won't be much different."
   ]
  },
  {
   "cell_type": "code",
   "execution_count": 0,
   "metadata": {
    "colab": {},
    "colab_type": "code",
    "id": "z3mO13or0CEx"
   },
   "outputs": [],
   "source": [
    "from keras.layers import Bidirectional, Concatenate\n",
    "\n",
    "encoder_bilstm = Bidirectional(LSTM(latent_dim, return_state=True, \n",
    "                                  dropout=0.5, name='encoder_lstm'))\n",
    "_, forward_h, forward_c, backward_h, backward_c = encoder_bilstm(encoder_inputs)\n",
    "\n",
    "state_h = Concatenate()([forward_h, backward_h])\n",
    "state_c = Concatenate()([forward_c, backward_c])"
   ]
  },
  {
   "cell_type": "markdown",
   "metadata": {
    "colab_type": "text",
    "id": "yiT3j7Qr0CE0"
   },
   "source": [
    "## 1. Data preparation\n",
    "\n",
    "1. Download data (e.g., \"deu-eng.zip\") from http://www.manythings.org/anki/\n",
    "2. Unzip the .ZIP file.\n",
    "3. Put the .TXT file (e.g., \"deu.txt\") in the directory \"./Data/\"."
   ]
  },
  {
   "cell_type": "code",
   "execution_count": 0,
   "metadata": {
    "colab": {},
    "colab_type": "code",
    "id": "-jS53IqxBbhc"
   },
   "outputs": [],
   "source": [
    "!pip install -U -q PyDrive\n",
    "from pydrive.auth import GoogleAuth\n",
    "from pydrive.drive import GoogleDrive\n",
    "from google.colab import auth\n",
    "from oauth2client.client import GoogleCredentials\n",
    "# Authenticate and create the PyDrive client.\n",
    "auth.authenticate_user()\n",
    "gauth = GoogleAuth()\n",
    "gauth.credentials = GoogleCredentials.get_application_default()\n",
    "drive = GoogleDrive(gauth)"
   ]
  },
  {
   "cell_type": "code",
   "execution_count": 44,
   "metadata": {
    "colab": {
     "base_uri": "https://localhost:8080/",
     "height": 34
    },
    "colab_type": "code",
    "id": "6kbrQrSfBsDM",
    "outputId": "9dc55eee-a3b9-4d76-e166-4ce2c7725086"
   },
   "outputs": [
    {
     "name": "stdout",
     "output_type": "stream",
     "text": [
      "1IoPXyl5agtVz_usngPB62cxZ3mbiF0by\n"
     ]
    }
   ],
   "source": [
    "link = \"https://drive.google.com/open?id=1IoPXyl5agtVz_usngPB62cxZ3mbiF0by\"\n",
    "fluff, id = link.split('=')\n",
    "print (id)\n",
    "downloaded = drive.CreateFile({'id':id}) \n",
    "downloaded.GetContentFile('fra.txt') "
   ]
  },
  {
   "cell_type": "markdown",
   "metadata": {
    "colab_type": "text",
    "id": "MfCo6tD20CE0"
   },
   "source": [
    "### 1.1. Load and clean text\n"
   ]
  },
  {
   "cell_type": "code",
   "execution_count": 0,
   "metadata": {
    "colab": {},
    "colab_type": "code",
    "id": "rDf2sv1v0CE1"
   },
   "outputs": [],
   "source": [
    "import re\n",
    "import string\n",
    "from unicodedata import normalize\n",
    "import numpy\n",
    "\n",
    "# load doc into memory\n",
    "def load_doc(filename):\n",
    "    # open the file as read only\n",
    "    file = open(filename, mode='rt', encoding='utf-8')\n",
    "    # read all text\n",
    "    text = file.read()\n",
    "    # close the file\n",
    "    file.close()\n",
    "    return text\n",
    "\n",
    "\n",
    "# split a loaded document into sentences\n",
    "def to_pairs(doc):\n",
    "    lines = doc.strip().split('\\n')\n",
    "    pairs = [line.split('\\t') for line in  lines]\n",
    "    return pairs\n",
    "\n",
    "def clean_data(lines):\n",
    "    cleaned = list()\n",
    "    # prepare regex for char filtering\n",
    "    re_print = re.compile('[^%s]' % re.escape(string.printable))\n",
    "    # prepare translation table for removing punctuation\n",
    "    table = str.maketrans('', '', string.punctuation)\n",
    "    for pair in lines:\n",
    "        clean_pair = list()\n",
    "        for line in pair:\n",
    "            # normalize unicode characters\n",
    "            line = normalize('NFD', line).encode('ascii', 'ignore')\n",
    "            line = line.decode('UTF-8')\n",
    "            # tokenize on white space\n",
    "            line = line.split()\n",
    "            # convert to lowercase\n",
    "            line = [word.lower() for word in line]\n",
    "            # remove punctuation from each token\n",
    "            line = [word.translate(table) for word in line]\n",
    "            # remove non-printable chars form each token\n",
    "            line = [re_print.sub('', w) for w in line]\n",
    "            # remove tokens with numbers in them\n",
    "            line = [word for word in line if word.isalpha()]\n",
    "            # store as string\n",
    "            clean_pair.append(' '.join(line))\n",
    "        cleaned.append(clean_pair)\n",
    "    return numpy.array(cleaned)"
   ]
  },
  {
   "cell_type": "markdown",
   "metadata": {
    "colab_type": "text",
    "id": "VDYvIgy60CE3"
   },
   "source": [
    "#### Fill the following blanks:"
   ]
  },
  {
   "cell_type": "code",
   "execution_count": 0,
   "metadata": {
    "colab": {},
    "colab_type": "code",
    "id": "9mWHjpJt0CE3"
   },
   "outputs": [],
   "source": [
    "# e.g., filename = 'Data/deu.txt'\n",
    "filename = \"fra.txt\"\n",
    "\n",
    "# e.g., n_train = 20000\n",
    "n_train = 20000"
   ]
  },
  {
   "cell_type": "code",
   "execution_count": 0,
   "metadata": {
    "colab": {},
    "colab_type": "code",
    "id": "7uLMMdSy0CE5"
   },
   "outputs": [],
   "source": [
    "# load dataset\n",
    "doc = load_doc(filename)\n",
    "\n",
    "# split into Language1-Language2 pairs\n",
    "pairs = to_pairs(doc)\n",
    "\n",
    "# clean sentences\n",
    "clean_pairs = clean_data(pairs)[0:n_train, :]"
   ]
  },
  {
   "cell_type": "code",
   "execution_count": 48,
   "metadata": {
    "colab": {
     "base_uri": "https://localhost:8080/",
     "height": 187
    },
    "colab_type": "code",
    "id": "dBetfbId0CE7",
    "outputId": "d0cfcd46-28a0-46e8-8aee-07f2c5c1b7b4"
   },
   "outputs": [
    {
     "name": "stdout",
     "output_type": "stream",
     "text": [
      "[whose is it] => [a qui estce]\n",
      "[whose is it] => [cest a qui]\n",
      "[will it fit] => [cela iratil]\n",
      "[will it fit] => [cela passeratil]\n",
      "[will it fit] => [cela sadapteratil]\n",
      "[will you go] => [irezvous]\n",
      "[will you go] => [irastu]\n",
      "[will you go] => [ty rendrastu]\n",
      "[will you go] => [vous y rendrezvous]\n",
      "[work slowly] => [travaille lentement]\n"
     ]
    }
   ],
   "source": [
    "for i in range(3000, 3010):\n",
    "    print('[' + clean_pairs[i, 0] + '] => [' + clean_pairs[i, 1] + ']')"
   ]
  },
  {
   "cell_type": "code",
   "execution_count": 49,
   "metadata": {
    "colab": {
     "base_uri": "https://localhost:8080/",
     "height": 51
    },
    "colab_type": "code",
    "id": "iiIxCoch0CE-",
    "outputId": "a5a572a1-8df4-460b-b7bc-22279c40cb08"
   },
   "outputs": [
    {
     "name": "stdout",
     "output_type": "stream",
     "text": [
      "Length of input_texts:  (20000,)\n",
      "Length of target_texts: (20000,)\n"
     ]
    }
   ],
   "source": [
    "input_texts = clean_pairs[:, 0]\n",
    "target_texts = ['\\t' + text + '\\n' for text in clean_pairs[:, 1]]\n",
    "\n",
    "print('Length of input_texts:  ' + str(input_texts.shape))\n",
    "print('Length of target_texts: ' + str(input_texts.shape))"
   ]
  },
  {
   "cell_type": "code",
   "execution_count": 50,
   "metadata": {
    "colab": {
     "base_uri": "https://localhost:8080/",
     "height": 51
    },
    "colab_type": "code",
    "id": "p1evYW1B0CFC",
    "outputId": "da60ee81-5e92-4793-b587-94d91aefee50"
   },
   "outputs": [
    {
     "name": "stdout",
     "output_type": "stream",
     "text": [
      "max length of input  sentences: 17\n",
      "max length of target sentences: 56\n"
     ]
    }
   ],
   "source": [
    "max_encoder_seq_length = max(len(line) for line in input_texts)\n",
    "max_decoder_seq_length = max(len(line) for line in target_texts)\n",
    "\n",
    "\n",
    "print('max length of input  sentences: %d' % (max_encoder_seq_length))\n",
    "print('max length of target sentences: %d' % (max_decoder_seq_length))"
   ]
  },
  {
   "cell_type": "markdown",
   "metadata": {
    "colab_type": "text",
    "id": "UE1Vw26B0CFE"
   },
   "source": [
    "**Remark:** To this end, you have two lists of sentences: input_texts and target_texts"
   ]
  },
  {
   "cell_type": "markdown",
   "metadata": {
    "colab_type": "text",
    "id": "PEZg13wj0CFE"
   },
   "source": [
    "## 2. Text processing\n",
    "\n",
    "### 2.1. Convert texts to sequences\n",
    "\n",
    "- Input: A list of $n$ sentences (with max length $t$).\n",
    "- It is represented by a $n\\times t$ matrix after the tokenization and zero-padding."
   ]
  },
  {
   "cell_type": "code",
   "execution_count": 51,
   "metadata": {
    "colab": {
     "base_uri": "https://localhost:8080/",
     "height": 85
    },
    "colab_type": "code",
    "id": "IpDiYeAT0CFF",
    "outputId": "a2cc08c6-5b06-4fe3-c0b4-cf58f3e504e1"
   },
   "outputs": [
    {
     "name": "stdout",
     "output_type": "stream",
     "text": [
      "shape of encoder_input_seq: (20000, 17)\n",
      "shape of input_token_index: 27\n",
      "shape of decoder_input_seq: (20000, 56)\n",
      "shape of target_token_index: 29\n"
     ]
    }
   ],
   "source": [
    "from keras.preprocessing.text import Tokenizer\n",
    "from keras.preprocessing.sequence import pad_sequences\n",
    "\n",
    "\n",
    "# encode and pad sequences\n",
    "def text2sequences(max_len, lines):\n",
    "    tokenizer = Tokenizer(char_level=True, filters='')\n",
    "    tokenizer.fit_on_texts(lines)\n",
    "    seqs = tokenizer.texts_to_sequences(lines)\n",
    "    seqs_pad = pad_sequences(seqs, maxlen=max_len, padding='post')\n",
    "    return seqs_pad, tokenizer.word_index\n",
    "\n",
    "\n",
    "encoder_input_seq, input_token_index = text2sequences(max_encoder_seq_length, \n",
    "                                                      input_texts)\n",
    "decoder_input_seq, target_token_index = text2sequences(max_decoder_seq_length, \n",
    "                                                       target_texts)\n",
    "\n",
    "\n",
    "print('shape of encoder_input_seq: ' + str(encoder_input_seq.shape))\n",
    "print('shape of input_token_index: ' + str(len(input_token_index)))\n",
    "print('shape of decoder_input_seq: ' + str(decoder_input_seq.shape))\n",
    "print('shape of target_token_index: ' + str(len(target_token_index)))"
   ]
  },
  {
   "cell_type": "code",
   "execution_count": 52,
   "metadata": {
    "colab": {
     "base_uri": "https://localhost:8080/",
     "height": 51
    },
    "colab_type": "code",
    "id": "MNhqzTFB0CFI",
    "outputId": "6e3d5cc4-657e-462b-da6c-6f79a120d11d"
   },
   "outputs": [
    {
     "name": "stdout",
     "output_type": "stream",
     "text": [
      "num_encoder_tokens: 28\n",
      "num_decoder_tokens: 30\n"
     ]
    }
   ],
   "source": [
    "num_encoder_tokens = len(input_token_index) + 1\n",
    "num_decoder_tokens = len(target_token_index) + 1\n",
    "\n",
    "print('num_encoder_tokens: ' + str(num_encoder_tokens))\n",
    "print('num_decoder_tokens: ' + str(num_decoder_tokens))"
   ]
  },
  {
   "cell_type": "markdown",
   "metadata": {
    "colab_type": "text",
    "id": "SuVBjALd0CFK"
   },
   "source": [
    "**Remark:** To this end, the input language and target language texts are converted to 2 matrices. \n",
    "\n",
    "- Their number of rows are both n_train.\n",
    "- Their number of columns are respective max_encoder_seq_length and max_decoder_seq_length."
   ]
  },
  {
   "cell_type": "markdown",
   "metadata": {
    "colab_type": "text",
    "id": "R_nx1ZR00CFL"
   },
   "source": [
    "The followings print a sentence and its representation as a sequence."
   ]
  },
  {
   "cell_type": "code",
   "execution_count": 53,
   "metadata": {
    "colab": {
     "base_uri": "https://localhost:8080/",
     "height": 34
    },
    "colab_type": "code",
    "id": "bhGnKpjx0CFL",
    "outputId": "1f255cb7-f4e9-4817-a7f8-a067a0b33384"
   },
   "outputs": [
    {
     "data": {
      "text/plain": [
       "'\\tentrez\\n'"
      ]
     },
     "execution_count": 53,
     "metadata": {
      "tags": []
     },
     "output_type": "execute_result"
    }
   ],
   "source": [
    "target_texts[100]"
   ]
  },
  {
   "cell_type": "code",
   "execution_count": 54,
   "metadata": {
    "colab": {
     "base_uri": "https://localhost:8080/",
     "height": 85
    },
    "colab_type": "code",
    "id": "8dIdTKak0CFN",
    "outputId": "c883001d-f4b9-4851-a27e-7c1ad7290bda"
   },
   "outputs": [
    {
     "data": {
      "text/plain": [
       "array([ 9,  1,  7,  6, 12,  1, 25, 10,  0,  0,  0,  0,  0,  0,  0,  0,  0,\n",
       "        0,  0,  0,  0,  0,  0,  0,  0,  0,  0,  0,  0,  0,  0,  0,  0,  0,\n",
       "        0,  0,  0,  0,  0,  0,  0,  0,  0,  0,  0,  0,  0,  0,  0,  0,  0,\n",
       "        0,  0,  0,  0,  0], dtype=int32)"
      ]
     },
     "execution_count": 54,
     "metadata": {
      "tags": []
     },
     "output_type": "execute_result"
    }
   ],
   "source": [
    "decoder_input_seq[100, :]"
   ]
  },
  {
   "cell_type": "markdown",
   "metadata": {
    "colab_type": "text",
    "id": "qkOKdBsg0CFP"
   },
   "source": [
    "## 2.2. One-hot encode\n",
    "\n",
    "- Input: A list of $n$ sentences (with max length $t$).\n",
    "- It is represented by a $n\\times t$ matrix after the tokenization and zero-padding.\n",
    "- It is represented by a $n\\times t \\times v$ tensor ($t$ is the number of unique chars) after the one-hot encoding."
   ]
  },
  {
   "cell_type": "code",
   "execution_count": 55,
   "metadata": {
    "colab": {
     "base_uri": "https://localhost:8080/",
     "height": 68
    },
    "colab_type": "code",
    "id": "YH3KFJtK0CFP",
    "outputId": "6510f65b-d2a8-46f8-c342-7f961ae1f780"
   },
   "outputs": [
    {
     "name": "stdout",
     "output_type": "stream",
     "text": [
      "(20000, 17, 28)\n",
      "(20000, 56, 30)\n",
      "(20000, 56, 30)\n"
     ]
    }
   ],
   "source": [
    "from keras.utils import to_categorical\n",
    "\n",
    "# one hot encode target sequence\n",
    "def onehot_encode(sequences, max_len, vocab_size):\n",
    "    n = len(sequences)\n",
    "    data = numpy.zeros((n, max_len, vocab_size))\n",
    "    for i in range(n):\n",
    "        data[i, :, :] = to_categorical(sequences[i], num_classes=vocab_size)\n",
    "    return data\n",
    "\n",
    "encoder_input_data = onehot_encode(encoder_input_seq, max_encoder_seq_length, num_encoder_tokens)\n",
    "decoder_input_data = onehot_encode(decoder_input_seq, max_decoder_seq_length, num_decoder_tokens)\n",
    "\n",
    "decoder_target_seq = numpy.zeros(decoder_input_seq.shape)\n",
    "decoder_target_seq[:, 0:-1] = decoder_input_seq[:, 1:]\n",
    "decoder_target_data = onehot_encode(decoder_target_seq, \n",
    "                                    max_decoder_seq_length, \n",
    "                                    num_decoder_tokens)\n",
    "\n",
    "print(encoder_input_data.shape)\n",
    "print(decoder_input_data.shape)\n",
    "print(decoder_target_data.shape)"
   ]
  },
  {
   "cell_type": "code",
   "execution_count": 56,
   "metadata": {
    "colab": {
     "base_uri": "https://localhost:8080/",
     "height": 34
    },
    "colab_type": "code",
    "id": "sYQSbSNuOS56",
    "outputId": "59f80310-1f8a-48e9-ea76-0c36367860d3"
   },
   "outputs": [
    {
     "data": {
      "text/plain": [
       "16000"
      ]
     },
     "execution_count": 56,
     "metadata": {
      "tags": []
     },
     "output_type": "execute_result"
    }
   ],
   "source": [
    "import numpy as np\n",
    "np.random.seed(1000)\n",
    "rand_indices = numpy.random.permutation(20000)\n",
    "train_idxs = rand_indices[0:16000]\n",
    "test_idxs = rand_indices[16000:20000]\n",
    "\n",
    "testing_encoder = encoder_input_data[test_idxs, :]\n",
    "\n",
    "training_encoder = encoder_input_data[train_idxs, :]\n",
    "training_input_decoder = decoder_input_data[train_idxs, :]\n",
    "training_target_decoder = decoder_target_data[train_idxs, :]\n",
    "len(training_target_decoder)"
   ]
  },
  {
   "cell_type": "markdown",
   "metadata": {
    "colab_type": "text",
    "id": "6BMnZhvy0CFR"
   },
   "source": [
    "## 3. Build the networks (for training)\n",
    "\n",
    "- Build encoder, decoder, and connect the two modules to get \"model\". \n",
    "\n",
    "- Fit the model on the bilingual data to train the parameters in the encoder and decoder."
   ]
  },
  {
   "cell_type": "markdown",
   "metadata": {
    "colab_type": "text",
    "id": "rQ8G18yd0CFS"
   },
   "source": [
    "### 3.1. Encoder network\n",
    "\n",
    "- Input:  one-hot encode of the input language\n",
    "\n",
    "- Return: \n",
    "\n",
    "    -- output (all the hidden states   $h_1, \\cdots , h_t$) are always discarded\n",
    "    \n",
    "    -- the final hidden state  $h_t$\n",
    "    \n",
    "    -- the final conveyor belt $c_t$"
   ]
  },
  {
   "cell_type": "markdown",
   "metadata": {
    "colab_type": "text",
    "id": "nLV9YZi50CFS"
   },
   "source": [
    "### BI-LSTM Encode"
   ]
  },
  {
   "cell_type": "code",
   "execution_count": 0,
   "metadata": {
    "colab": {},
    "colab_type": "code",
    "id": "-UxTsdev0CFT"
   },
   "outputs": [],
   "source": [
    "from keras.models import Model\n",
    "from keras.layers import Input, LSTM, Dense\n",
    "from keras.layers import Bidirectional, Concatenate\n",
    "\n",
    "latent_dim = 256\n",
    "\n",
    "# inputs of the encoder network\n",
    "encoder_inputs = Input(shape=(None, num_encoder_tokens), \n",
    "                       name='encoder_inputs')\n",
    "\n",
    "encoder_bilstm = Bidirectional(LSTM(latent_dim, return_state=True, \n",
    "                                  dropout=0.5, name='encoder_lstm'))\n",
    "_, forward_h, forward_c, backward_h, backward_c = encoder_bilstm(encoder_inputs)\n",
    "\n",
    "state_h = Concatenate()([forward_h, backward_h])\n",
    "state_c = Concatenate()([forward_c, backward_c])\n",
    "\n",
    "encoder_model_bi = Model(inputs=encoder_inputs, \n",
    "                      outputs=[state_h, state_c],\n",
    "                      name='bi_encoder')"
   ]
  },
  {
   "cell_type": "code",
   "execution_count": null,
   "metadata": {},
   "outputs": [],
   "source": [
    "from IPython.display import SVG\n",
    "from keras.utils.vis_utils import model_to_dot, plot_model\n",
    "\n",
    "SVG(model_to_dot(encoder_model_bi, show_shapes=False).create(prog='dot', format='svg'))\n",
    "\n",
    "plot_model(\n",
    "    model=encoder_model_bi, show_shapes=False,\n",
    "    to_file='encoder.pdf'\n",
    ")\n",
    "\n",
    "encoder_model_bi.summary()"
   ]
  },
  {
   "cell_type": "markdown",
   "metadata": {
    "colab_type": "text",
    "id": "GY74rnHs0CFU"
   },
   "source": [
    "Print a summary and save the encoder network structure to \"./encoder.pdf\""
   ]
  },
  {
   "cell_type": "markdown",
   "metadata": {
    "colab_type": "text",
    "id": "SFc2XnNh0CFY"
   },
   "source": [
    "### 3.2. Decoder network\n",
    "\n",
    "- Inputs:  \n",
    "\n",
    "    -- one-hot encode of the target language\n",
    "    \n",
    "    -- The initial hidden state $h_t$ \n",
    "    \n",
    "    -- The initial conveyor belt $c_t$ \n",
    "\n",
    "- Return: \n",
    "\n",
    "    -- output (all the hidden states) $h_1, \\cdots , h_t$\n",
    "\n",
    "    -- the final hidden state  $h_t$ (discarded in the training and used in the prediction)\n",
    "    \n",
    "    -- the final conveyor belt $c_t$ (discarded in the training and used in the prediction)"
   ]
  },
  {
   "cell_type": "markdown",
   "metadata": {
    "colab_type": "text",
    "id": "_qrYcgA00CFY"
   },
   "source": [
    "### BI-LSTM Decode"
   ]
  },
  {
   "cell_type": "code",
   "execution_count": 0,
   "metadata": {
    "colab": {},
    "colab_type": "code",
    "id": "ItjToiiT0CFZ"
   },
   "outputs": [],
   "source": [
    "from keras.layers import Input, LSTM, Dense\n",
    "from keras.models import Model\n",
    "\n",
    "bi_decoder_latent_dim = 512\n",
    "\n",
    "# inputs of the decoder network\n",
    "decoder_input_h = Input(shape=(bi_decoder_latent_dim,), name='decoder_input_h')\n",
    "decoder_input_c = Input(shape=(bi_decoder_latent_dim,), name='decoder_input_c')\n",
    "decoder_input_x = Input(shape=(None, num_decoder_tokens), name='decoder_input_x')\n",
    "\n",
    "# set the BI-LSTM layer\n",
    "decoder_lstm = LSTM(bi_decoder_latent_dim, return_sequences=True, \n",
    "                    return_state=True, dropout=0.5, name='decoder_lstm')\n",
    "decoder_lstm_outputs, state_h, state_c = decoder_lstm(decoder_input_x, \n",
    "                                                      initial_state=[decoder_input_h, decoder_input_c])\n",
    "\n",
    "# set the dense layer\n",
    "decoder_dense = Dense(num_decoder_tokens, activation='softmax', name='decoder_dense')\n",
    "decoder_outputs = decoder_dense(decoder_lstm_outputs)\n",
    "\n",
    "# build the decoder network model\n",
    "decoder_model = Model(inputs=[decoder_input_x, decoder_input_h, decoder_input_c],\n",
    "                      outputs=[decoder_outputs, state_h, state_c],\n",
    "                      name='decoder')"
   ]
  },
  {
   "cell_type": "markdown",
   "metadata": {
    "colab_type": "text",
    "id": "tK4zAgdr0CFb"
   },
   "source": [
    "Print a summary and save the encoder network structure to \"./decoder.pdf\""
   ]
  },
  {
   "cell_type": "markdown",
   "metadata": {
    "colab_type": "text",
    "id": "j1FKaRoQ0CFg"
   },
   "source": [
    "### 3.3. Connect the encoder and decoder"
   ]
  },
  {
   "cell_type": "code",
   "execution_count": 0,
   "metadata": {
    "colab": {},
    "colab_type": "code",
    "id": "DcR4XIzK0CFg"
   },
   "outputs": [],
   "source": [
    "# input layers\n",
    "encoder_input_x = Input(shape=(None, num_encoder_tokens), name='encoder_input_x')\n",
    "decoder_input_x = Input(shape=(None, num_decoder_tokens), name='decoder_input_x')\n",
    "\n",
    "# connect encoder to decoder\n",
    "encoder_final_states = encoder_model_bi([encoder_input_x])\n",
    "decoder_lstm_output, _, _ = decoder_lstm(decoder_input_x, initial_state=encoder_final_states)\n",
    "decoder_pred = decoder_dense(decoder_lstm_output)\n",
    "\n",
    "model = Model(inputs=[encoder_input_x, decoder_input_x], \n",
    "              outputs=decoder_pred, \n",
    "              name='model_training')"
   ]
  },
  {
   "cell_type": "code",
   "execution_count": 62,
   "metadata": {
    "colab": {
     "base_uri": "https://localhost:8080/",
     "height": 51
    },
    "colab_type": "code",
    "id": "vjjp6qk40CFi",
    "outputId": "84d49e46-bb21-4239-f641-4741fb579133"
   },
   "outputs": [
    {
     "name": "stdout",
     "output_type": "stream",
     "text": [
      "Tensor(\"decoder_lstm_2/while/Exit_2:0\", shape=(?, 512), dtype=float32)\n",
      "Tensor(\"decoder_input_h_1:0\", shape=(?, 512), dtype=float32)\n"
     ]
    }
   ],
   "source": [
    "print(state_h)\n",
    "print(decoder_input_h)"
   ]
  },
  {
   "cell_type": "markdown",
   "metadata": {
    "colab_type": "text",
    "id": "mBvbdlrn0CFl"
   },
   "source": [
    "### 3.5. Fit the model on the bilingual dataset\n",
    "\n",
    "- encoder_input_data: one-hot encode of the input language\n",
    "\n",
    "- decoder_input_data: one-hot encode of the input language\n",
    "\n",
    "- decoder_target_data: labels (left shift of decoder_input_data)\n",
    "\n",
    "- tune the hyper-parameters\n",
    "\n",
    "- stop when the validation loss stop decreasing."
   ]
  },
  {
   "cell_type": "code",
   "execution_count": 64,
   "metadata": {
    "colab": {
     "base_uri": "https://localhost:8080/",
     "height": 68
    },
    "colab_type": "code",
    "id": "KgldmcIS0CFl",
    "outputId": "21b6fc12-2f62-44f7-e2dc-1fa0fd763156"
   },
   "outputs": [
    {
     "name": "stdout",
     "output_type": "stream",
     "text": [
      "shape of encoder_input_data(20000, 17, 28)\n",
      "shape of decoder_input_data(20000, 56, 30)\n",
      "shape of decoder_target_data(20000, 56, 30)\n"
     ]
    }
   ],
   "source": [
    "print('shape of encoder_input_data' + str(encoder_input_data.shape))\n",
    "print('shape of decoder_input_data' + str(decoder_input_data.shape))\n",
    "print('shape of decoder_target_data' + str(decoder_target_data.shape))"
   ]
  },
  {
   "cell_type": "code",
   "execution_count": 65,
   "metadata": {
    "colab": {
     "base_uri": "https://localhost:8080/",
     "height": 1000
    },
    "colab_type": "code",
    "id": "lNeABHD90CFn",
    "outputId": "2f29dd33-72da-49af-da5e-5b1e2a80acea"
   },
   "outputs": [
    {
     "name": "stdout",
     "output_type": "stream",
     "text": [
      "Train on 16000 samples, validate on 4000 samples\n",
      "Epoch 1/50\n",
      "16000/16000 [==============================] - 34s 2ms/step - loss: 1.0583 - val_loss: 0.8829\n",
      "Epoch 2/50\n",
      "16000/16000 [==============================] - 31s 2ms/step - loss: 0.7578 - val_loss: 0.7610\n",
      "Epoch 3/50\n",
      "16000/16000 [==============================] - 31s 2ms/step - loss: 0.6665 - val_loss: 0.7082\n",
      "Epoch 4/50\n",
      "16000/16000 [==============================] - 31s 2ms/step - loss: 0.6098 - val_loss: 0.6522\n",
      "Epoch 5/50\n",
      "16000/16000 [==============================] - 30s 2ms/step - loss: 0.5653 - val_loss: 0.6160\n",
      "Epoch 6/50\n",
      "16000/16000 [==============================] - 31s 2ms/step - loss: 0.5301 - val_loss: 0.5841\n",
      "Epoch 7/50\n",
      "16000/16000 [==============================] - 30s 2ms/step - loss: 0.5038 - val_loss: 0.5610\n",
      "Epoch 8/50\n",
      "16000/16000 [==============================] - 30s 2ms/step - loss: 0.4778 - val_loss: 0.5463\n",
      "Epoch 9/50\n",
      "16000/16000 [==============================] - 30s 2ms/step - loss: 0.4566 - val_loss: 0.5208\n",
      "Epoch 10/50\n",
      "16000/16000 [==============================] - 30s 2ms/step - loss: 0.4370 - val_loss: 0.5102\n",
      "Epoch 11/50\n",
      "16000/16000 [==============================] - 30s 2ms/step - loss: 0.4191 - val_loss: 0.4924\n",
      "Epoch 12/50\n",
      "16000/16000 [==============================] - 31s 2ms/step - loss: 0.4022 - val_loss: 0.4831\n",
      "Epoch 13/50\n",
      "16000/16000 [==============================] - 31s 2ms/step - loss: 0.3877 - val_loss: 0.4766\n",
      "Epoch 14/50\n",
      "16000/16000 [==============================] - 31s 2ms/step - loss: 0.3738 - val_loss: 0.4646\n",
      "Epoch 15/50\n",
      "16000/16000 [==============================] - 31s 2ms/step - loss: 0.3606 - val_loss: 0.4569\n",
      "Epoch 16/50\n",
      "16000/16000 [==============================] - 31s 2ms/step - loss: 0.3490 - val_loss: 0.4524\n",
      "Epoch 17/50\n",
      "16000/16000 [==============================] - 31s 2ms/step - loss: 0.3382 - val_loss: 0.4459\n",
      "Epoch 18/50\n",
      "16000/16000 [==============================] - 30s 2ms/step - loss: 0.3282 - val_loss: 0.4399\n",
      "Epoch 19/50\n",
      "16000/16000 [==============================] - 30s 2ms/step - loss: 0.3177 - val_loss: 0.4428\n",
      "Epoch 20/50\n",
      "16000/16000 [==============================] - 30s 2ms/step - loss: 0.3099 - val_loss: 0.4398\n",
      "Epoch 21/50\n",
      "16000/16000 [==============================] - 30s 2ms/step - loss: 0.3015 - val_loss: 0.4303\n",
      "Epoch 22/50\n",
      "16000/16000 [==============================] - 30s 2ms/step - loss: 0.2927 - val_loss: 0.4326\n",
      "Epoch 23/50\n",
      "16000/16000 [==============================] - 30s 2ms/step - loss: 0.2855 - val_loss: 0.4326\n",
      "Epoch 24/50\n",
      "16000/16000 [==============================] - 30s 2ms/step - loss: 0.2781 - val_loss: 0.4324\n",
      "Epoch 25/50\n",
      "16000/16000 [==============================] - 30s 2ms/step - loss: 0.2712 - val_loss: 0.4267\n",
      "Epoch 26/50\n",
      "16000/16000 [==============================] - 30s 2ms/step - loss: 0.2648 - val_loss: 0.4286\n",
      "Epoch 27/50\n",
      "16000/16000 [==============================] - 30s 2ms/step - loss: 0.2594 - val_loss: 0.4320\n",
      "Epoch 28/50\n",
      "16000/16000 [==============================] - 30s 2ms/step - loss: 0.2529 - val_loss: 0.4285\n",
      "Epoch 29/50\n",
      "16000/16000 [==============================] - 30s 2ms/step - loss: 0.2473 - val_loss: 0.4332\n",
      "Epoch 30/50\n",
      "16000/16000 [==============================] - 30s 2ms/step - loss: 0.2411 - val_loss: 0.4325\n",
      "Epoch 31/50\n",
      "16000/16000 [==============================] - 30s 2ms/step - loss: 0.2360 - val_loss: 0.4306\n",
      "Epoch 32/50\n",
      "16000/16000 [==============================] - 31s 2ms/step - loss: 0.2314 - val_loss: 0.4320\n",
      "Epoch 33/50\n",
      "16000/16000 [==============================] - 31s 2ms/step - loss: 0.2272 - val_loss: 0.4333\n",
      "Epoch 34/50\n",
      "16000/16000 [==============================] - 31s 2ms/step - loss: 0.2224 - val_loss: 0.4322\n",
      "Epoch 35/50\n",
      "16000/16000 [==============================] - 32s 2ms/step - loss: 0.2195 - val_loss: 0.4347\n",
      "Epoch 36/50\n",
      "16000/16000 [==============================] - 32s 2ms/step - loss: 0.2137 - val_loss: 0.4367\n",
      "Epoch 37/50\n",
      "16000/16000 [==============================] - 32s 2ms/step - loss: 0.2093 - val_loss: 0.4407\n",
      "Epoch 38/50\n",
      "16000/16000 [==============================] - 32s 2ms/step - loss: 0.2056 - val_loss: 0.4391\n",
      "Epoch 39/50\n",
      "16000/16000 [==============================] - 32s 2ms/step - loss: 0.2024 - val_loss: 0.4408\n",
      "Epoch 40/50\n",
      "16000/16000 [==============================] - 31s 2ms/step - loss: 0.1994 - val_loss: 0.4440\n",
      "Epoch 41/50\n",
      "16000/16000 [==============================] - 31s 2ms/step - loss: 0.1949 - val_loss: 0.4451\n",
      "Epoch 42/50\n",
      "16000/16000 [==============================] - 30s 2ms/step - loss: 0.1914 - val_loss: 0.4546\n",
      "Epoch 43/50\n",
      "16000/16000 [==============================] - 30s 2ms/step - loss: 0.1873 - val_loss: 0.4500\n",
      "Epoch 44/50\n",
      "16000/16000 [==============================] - 30s 2ms/step - loss: 0.1852 - val_loss: 0.4527\n",
      "Epoch 45/50\n",
      "16000/16000 [==============================] - 30s 2ms/step - loss: 0.1830 - val_loss: 0.4521\n",
      "Epoch 46/50\n",
      "16000/16000 [==============================] - 30s 2ms/step - loss: 0.1802 - val_loss: 0.4540\n",
      "Epoch 47/50\n",
      "16000/16000 [==============================] - 30s 2ms/step - loss: 0.1772 - val_loss: 0.4535\n",
      "Epoch 48/50\n",
      "16000/16000 [==============================] - 30s 2ms/step - loss: 0.1734 - val_loss: 0.4599\n",
      "Epoch 49/50\n",
      "16000/16000 [==============================] - 29s 2ms/step - loss: 0.1699 - val_loss: 0.4668\n",
      "Epoch 50/50\n",
      "16000/16000 [==============================] - 29s 2ms/step - loss: 0.1678 - val_loss: 0.4660\n"
     ]
    }
   ],
   "source": [
    "model.compile(optimizer='rmsprop', loss='categorical_crossentropy')\n",
    "\n",
    "model.fit([encoder_input_data, decoder_input_data],  # training data\n",
    "          decoder_target_data,                       # labels (left shift of the target sequences)\n",
    "          batch_size=64, epochs=50, validation_split=0.2)\n",
    "\n",
    "model.save('seq2seq.h5')"
   ]
  },
  {
   "cell_type": "markdown",
   "metadata": {
    "colab_type": "text",
    "id": "8z7YMuqj0CFo"
   },
   "source": [
    "## 4. Make predictions\n",
    "\n",
    "\n",
    "### 4.1. Translate English to French\n",
    "\n",
    "1. Encoder read a sentence (source language) and output its final states, $h_t$ and $c_t$.\n",
    "2. Take the [star] sign \"\\t\" and the final state $h_t$ and $c_t$ as input and run the decoder.\n",
    "3. Get the new states and predicted probability distribution.\n",
    "4. sample a char from the predicted probability distribution\n",
    "5. take the sampled char and the new states as input and repeat the process (stop if reach the [stop] sign \"\\n\")."
   ]
  },
  {
   "cell_type": "code",
   "execution_count": 0,
   "metadata": {
    "colab": {},
    "colab_type": "code",
    "id": "u2gqs_k_0CFp"
   },
   "outputs": [],
   "source": [
    "# Reverse-lookup token index to decode sequences back to something readable.\n",
    "reverse_input_char_index = dict((i, char) for char, i in input_token_index.items())\n",
    "reverse_target_char_index = dict((i, char) for char, i in target_token_index.items())"
   ]
  },
  {
   "cell_type": "code",
   "execution_count": 0,
   "metadata": {
    "colab": {},
    "colab_type": "code",
    "id": "dBOutt-00CFr"
   },
   "outputs": [],
   "source": [
    "def decode_sequence(input_seq):\n",
    "    states_value = encoder_model_bi.predict(input_seq)\n",
    "\n",
    "    target_seq = numpy.zeros((1, 1, num_decoder_tokens))\n",
    "    target_seq[0, 0, target_token_index['\\t']] = 1.\n",
    "\n",
    "    stop_condition = False\n",
    "    decoded_sentence = ''\n",
    "    while not stop_condition:\n",
    "        output_tokens, h, c = decoder_model.predict([target_seq] + states_value)\n",
    "\n",
    "        # this line of code is greedy selection\n",
    "        # try to use multinomial sampling instead (with temperature)\n",
    "        sampled_token_index = numpy.argmax(output_tokens[0, -1, :])\n",
    "        \n",
    "        sampled_char = reverse_target_char_index[sampled_token_index]\n",
    "        decoded_sentence += sampled_char\n",
    "\n",
    "        if (sampled_char == '\\n' or\n",
    "           len(decoded_sentence) > max_decoder_seq_length):\n",
    "            stop_condition = True\n",
    "\n",
    "        target_seq = numpy.zeros((1, 1, num_decoder_tokens))\n",
    "        target_seq[0, 0, sampled_token_index] = 1.\n",
    "\n",
    "        states_value = [h, c]\n",
    "\n",
    "    return decoded_sentence\n"
   ]
  },
  {
   "cell_type": "code",
   "execution_count": 69,
   "metadata": {
    "colab": {
     "base_uri": "https://localhost:8080/",
     "height": 1000
    },
    "colab_type": "code",
    "id": "kLmeSEqs0CFs",
    "outputId": "67890900-c33d-4368-a5e1-39c2bff764b9"
   },
   "outputs": [
    {
     "name": "stdout",
     "output_type": "stream",
     "text": [
      "-\n",
      "English:        i buried it\n",
      "French (true):  je lai enterre\n",
      "French (pred):  je lai enterree\n",
      "-\n",
      "English:        i buried it\n",
      "French (true):  je lai enterree\n",
      "French (pred):  je lai enterree\n",
      "-\n",
      "English:        i burned it\n",
      "French (true):  je lai brule\n",
      "French (pred):  je lai court\n",
      "-\n",
      "English:        i burned it\n",
      "French (true):  je lai brulee\n",
      "French (pred):  je lai court\n",
      "-\n",
      "English:        i came back\n",
      "French (true):  je suis revenu\n",
      "French (pred):  je suis venu\n",
      "-\n",
      "English:        i can dance\n",
      "French (true):  je sais danser\n",
      "French (pred):  je peux en aller\n",
      "-\n",
      "English:        i can do it\n",
      "French (true):  je peux le faire\n",
      "French (pred):  je peux y arriver\n",
      "-\n",
      "English:        i can do it\n",
      "French (true):  je peux y arriver\n",
      "French (pred):  je peux y arriver\n",
      "-\n",
      "English:        i can do it\n",
      "French (true):  je peux y parvenir\n",
      "French (pred):  je peux y arriver\n",
      "-\n",
      "English:        i can do it\n",
      "French (true):  jarrive a le faire\n",
      "French (pred):  je peux y arriver\n",
      "-\n",
      "English:        i cant eat\n",
      "French (true):  je ne peux pas manger\n",
      "French (pred):  je ne peux pas manger\n",
      "-\n",
      "English:        i cant say\n",
      "French (true):  je ne puis le dire\n",
      "French (pred):  je ne peux pas manger\n",
      "-\n",
      "English:        i cant say\n",
      "French (true):  je ne peux le dire\n",
      "French (pred):  je ne peux pas manger\n",
      "-\n",
      "English:        i cant see\n",
      "French (true):  je narrive pas a voir\n",
      "French (pred):  je ne parviens pas a voir\n",
      "-\n",
      "English:        i cant see\n",
      "French (true):  je ne parviens pas a voir\n",
      "French (pred):  je ne parviens pas a voir\n",
      "-\n",
      "English:        i cant see\n",
      "French (true):  je suis aveugle\n",
      "French (pred):  je ne parviens pas a voir\n",
      "-\n",
      "English:        i cant win\n",
      "French (true):  je ne peux gagner\n",
      "French (pred):  je ne parviens pas a y aller\n",
      "-\n",
      "English:        i cant win\n",
      "French (true):  je ne peux pas gagner\n",
      "French (pred):  je ne parviens pas a y aller\n",
      "-\n",
      "English:        i cant win\n",
      "French (true):  je ne puis gagner\n",
      "French (pred):  je ne parviens pas a y aller\n",
      "-\n",
      "English:        i caught it\n",
      "French (true):  je lai attrape\n",
      "French (pred):  je lai attrape\n"
     ]
    }
   ],
   "source": [
    "for seq_index in range(2100, 2120):\n",
    "    # Take one sequence (part of the training set)\n",
    "    # for trying out decoding.\n",
    "    input_seq = encoder_input_data[seq_index: seq_index + 1]\n",
    "    decoded_sentence = decode_sequence(input_seq)\n",
    "    print('-')\n",
    "    print('English:       ', input_texts[seq_index])\n",
    "    print('French (true): ', target_texts[seq_index][1:-1])\n",
    "    print('French (pred): ', decoded_sentence[0:-1])\n"
   ]
  },
  {
   "cell_type": "markdown",
   "metadata": {
    "colab_type": "text",
    "id": "ThypTkr30CFu"
   },
   "source": [
    "### 4.2. Translate an English sentence to the target language\n",
    "\n",
    "1. Tokenization\n",
    "2. One-hot encode\n",
    "3. Translate"
   ]
  },
  {
   "cell_type": "code",
   "execution_count": 0,
   "metadata": {
    "colab": {},
    "colab_type": "code",
    "id": "QnBMWzH8L6oZ"
   },
   "outputs": [],
   "source": [
    "tokenizer = Tokenizer(char_level=True, filters='')\n",
    "tokenizer.fit_on_texts(input_texts)"
   ]
  },
  {
   "cell_type": "code",
   "execution_count": 71,
   "metadata": {
    "colab": {
     "base_uri": "https://localhost:8080/",
     "height": 68
    },
    "colab_type": "code",
    "id": "xn0Ohvrz0CFu",
    "outputId": "c7eb4fa1-bfb7-4b0e-90cc-d8d27e13a2ec"
   },
   "outputs": [
    {
     "name": "stdout",
     "output_type": "stream",
     "text": [
      "source sentence is: why is that\n",
      "translated sentence is: pourquoi ca\n",
      "\n"
     ]
    }
   ],
   "source": [
    "input_sentence = 'why is that'\n",
    "\n",
    "input_sequence = tokenizer.texts_to_sequences([input_sentence])\n",
    "input_x = onehot_encode(pad_sequences(input_sequence, maxlen=max_encoder_seq_length, padding='post'), max_encoder_seq_length, num_encoder_tokens)\n",
    "translated_sentence = decode_sequence(input_x)\n",
    "\n",
    "print('source sentence is: ' + input_sentence)\n",
    "print('translated sentence is: ' + translated_sentence)"
   ]
  },
  {
   "cell_type": "markdown",
   "metadata": {
    "colab_type": "text",
    "id": "a75gX5900CFw"
   },
   "source": [
    "## 5. Evaluate the translation using BLEU score\n",
    "\n",
    "Reference: \n",
    "- https://machinelearningmastery.com/calculate-bleu-score-for-text-python/\n",
    "- https://en.wikipedia.org/wiki/BLEU\n"
   ]
  },
  {
   "cell_type": "code",
   "execution_count": 72,
   "metadata": {
    "colab": {
     "base_uri": "https://localhost:8080/",
     "height": 102
    },
    "colab_type": "code",
    "id": "StBa8yqC0CFx",
    "outputId": "e8516b2a-b308-45dc-e437-660f789040bc"
   },
   "outputs": [
    {
     "name": "stderr",
     "output_type": "stream",
     "text": [
      "/usr/local/lib/python3.6/dist-packages/nltk/translate/bleu_score.py:490: UserWarning: \n",
      "Corpus/Sentence contains 0 counts of 2-gram overlaps.\n",
      "BLEU scores might be undesirable; use SmoothingFunction().\n",
      "  warnings.warn(_msg)\n"
     ]
    },
    {
     "data": {
      "text/plain": [
       "0.8311432771798125"
      ]
     },
     "execution_count": 72,
     "metadata": {
      "tags": []
     },
     "output_type": "execute_result"
    }
   ],
   "source": [
    "from nltk.translate.bleu_score import sentence_bleu\n",
    "sc = []\n",
    "for idx in test_idxs[:200]:\n",
    "    input_seq = encoder_input_data[idx:idx+1]\n",
    "    decoded_sentence = decode_sequence([input_seq])\n",
    "    sc.append(sentence_bleu(target_texts[idx][1:-1], decoded_sentence[0:-1]))\n",
    "\n",
    "sum(sc)/(len(sc)*1.0)"
   ]
  }
 ],
 "metadata": {
  "accelerator": "GPU",
  "colab": {
   "name": "seq2seq.ipynb",
   "provenance": []
  },
  "kernelspec": {
   "display_name": "Python 3",
   "language": "python",
   "name": "python3"
  },
  "language_info": {
   "codemirror_mode": {
    "name": "ipython",
    "version": 3
   },
   "file_extension": ".py",
   "mimetype": "text/x-python",
   "name": "python",
   "nbconvert_exporter": "python",
   "pygments_lexer": "ipython3",
   "version": "3.7.2"
  }
 },
 "nbformat": 4,
 "nbformat_minor": 1
}
